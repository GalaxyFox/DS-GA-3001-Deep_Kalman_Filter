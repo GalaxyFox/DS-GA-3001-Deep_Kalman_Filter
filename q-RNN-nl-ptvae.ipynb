{
 "cells": [
  {
   "cell_type": "code",
   "execution_count": 94,
   "metadata": {},
   "outputs": [
    {
     "data": {
      "text/plain": [
       "<torch._C.Generator at 0x16fbd39d550>"
      ]
     },
     "execution_count": 94,
     "metadata": {},
     "output_type": "execute_result"
    }
   ],
   "source": [
    "from __future__ import print_function\n",
    "import argparse\n",
    "import torch\n",
    "import torch.utils.data\n",
    "from torch import nn, optim\n",
    "from torch.nn import functional as F\n",
    "from torchvision import datasets, transforms\n",
    "from torchvision.utils import save_image\n",
    "import numpy as np\n",
    "\n",
    "\n",
    "batch_size = 128\n",
    "vae_batch_size = 512\n",
    "seed = 1\n",
    "epochs = 200\n",
    "rnn_epochs = 10\n",
    "vae_epochs = 50\n",
    "cuda = True\n",
    "log_interval = 10\n",
    "sample_size = 10\n",
    "h_d = 512\n",
    "l_d = 32\n",
    "u_d = 1\n",
    "\n",
    "\n",
    "\n",
    "torch.manual_seed(seed)"
   ]
  },
  {
   "cell_type": "code",
   "execution_count": 2,
   "metadata": {
    "collapsed": true
   },
   "outputs": [],
   "source": [
    "device = torch.device(\"cuda\" if cuda else \"cpu\")\n",
    "\n",
    "kwargs = {'num_workers': 0, 'pin_memory': True} if cuda else {}\n",
    "\n"
   ]
  },
  {
   "cell_type": "markdown",
   "metadata": {},
   "source": [
    "### Preparing for the dataset"
   ]
  },
  {
   "cell_type": "code",
   "execution_count": 3,
   "metadata": {
    "collapsed": true
   },
   "outputs": [],
   "source": [
    "#hmnist dataset\n",
    "import healing_mnist_indep\n",
    "import vae_mnist"
   ]
  },
  {
   "cell_type": "code",
   "execution_count": 4,
   "metadata": {
    "collapsed": true
   },
   "outputs": [],
   "source": [
    "hmnist = healing_mnist_indep.HealingMNIST(seq_len=5, # 5 rotations of each digit\n",
    "                                          square_count=0, # 3 out of 5 images have a square added to them\n",
    "                                          square_size=5, # the square is 5x5\n",
    "                                          noise_ratio=0.1, # on average, 20% of the image is eaten by noise,\n",
    "                                          digits=range(10), # only include this digits\n",
    "                                          test = False\n",
    "                                         )"
   ]
  },
  {
   "cell_type": "code",
   "execution_count": 5,
   "metadata": {
    "collapsed": true
   },
   "outputs": [],
   "source": [
    "vae = vae_mnist.HealingMNIST(seq_len=5, # 5 rotations of each digit\n",
    "                                          square_count=0, # 3 out of 5 images have a square added to them\n",
    "                                          square_size=5, # the square is 5x5\n",
    "                                          noise_ratio=0.10, # on average, 20% of the image is eaten by noise,\n",
    "                                          digits=range(10), # only include this digits\n",
    "                                          test = False\n",
    "                                         )"
   ]
  },
  {
   "cell_type": "code",
   "execution_count": 11,
   "metadata": {},
   "outputs": [
    {
     "name": "stdout",
     "output_type": "stream",
     "text": [
      "(60000, 5, 28, 28) (60000, 5, 28, 28)\n",
      "(60000, 5)\n",
      "(10000, 5, 28, 28) (10000, 5, 28, 28)\n",
      "(10000, 5)\n"
     ]
    }
   ],
   "source": [
    "print(hmnist.train_images.shape,hmnist.train_targets.shape)\n",
    "print(hmnist.train_rotations.shape)\n",
    "print(hmnist.test_images.shape,hmnist.test_targets.shape)\n",
    "print(hmnist.test_rotations.shape)"
   ]
  },
  {
   "cell_type": "code",
   "execution_count": 12,
   "metadata": {},
   "outputs": [
    {
     "name": "stdout",
     "output_type": "stream",
     "text": [
      "(60000, 6, 28, 28) (60000, 6, 28, 28)\n",
      "(10000, 6, 28, 28) (10000, 6, 28, 28)\n"
     ]
    }
   ],
   "source": [
    "print(vae.train_images.shape,vae.train_targets.shape)\n",
    "\n",
    "print(vae.test_images.shape,vae.test_targets.shape)"
   ]
  },
  {
   "cell_type": "code",
   "execution_count": 13,
   "metadata": {},
   "outputs": [
    {
     "data": {
      "image/png": "[encoded data removed]",
      "text/plain": [
       "<Figure size 1080x576 with 5 Axes>"
      ]
     },
     "metadata": {},
     "output_type": "display_data"
    }
   ],
   "source": [
    "import matplotlib.pyplot as plt\n",
    "%matplotlib inline\n",
    "case = 4\n",
    "fig = plt.figure(figsize=(15,8))\n",
    "for i, image in enumerate(hmnist.test_images[case]):\n",
    "    fig.add_subplot(1, 6, i+1)\n",
    "    plt.imshow(image,cmap='gray')\n",
    "    "
   ]
  },
  {
   "cell_type": "code",
   "execution_count": 14,
   "metadata": {},
   "outputs": [
    {
     "data": {
      "image/png": "[encoded data removed]",
      "text/plain": [
       "<Figure size 1080x576 with 5 Axes>"
      ]
     },
     "metadata": {},
     "output_type": "display_data"
    }
   ],
   "source": [
    "fig = plt.figure(figsize=(15,8))\n",
    "for i, image in enumerate(hmnist.test_targets[case]):\n",
    "    fig.add_subplot(1, 6, i+1)\n",
    "    plt.imshow(image,cmap='gray')"
   ]
  },
  {
   "cell_type": "code",
   "execution_count": 15,
   "metadata": {},
   "outputs": [
    {
     "name": "stdout",
     "output_type": "stream",
     "text": [
      "[ 65.88950329  82.17884058 -44.44024224  23.42226093  27.14671693]\n"
     ]
    }
   ],
   "source": [
    "print(hmnist.test_rotations[case])"
   ]
  },
  {
   "cell_type": "code",
   "execution_count": 16,
   "metadata": {},
   "outputs": [
    {
     "data": {
      "image/png": "[encoded data removed]",
      "text/plain": [
       "<Figure size 1080x576 with 6 Axes>"
      ]
     },
     "metadata": {},
     "output_type": "display_data"
    }
   ],
   "source": [
    "import matplotlib.pyplot as plt\n",
    "%matplotlib inline\n",
    "case = 17\n",
    "fig = plt.figure(figsize=(15,8))\n",
    "for i, image in enumerate(vae.test_images[case]):\n",
    "    fig.add_subplot(1, 7, i+1)\n",
    "    plt.imshow(image,cmap='gray')\n",
    "    "
   ]
  },
  {
   "cell_type": "code",
   "execution_count": 17,
   "metadata": {},
   "outputs": [
    {
     "data": {
      "image/png": "[encoded data removed]",
      "text/plain": [
       "<Figure size 1080x576 with 6 Axes>"
      ]
     },
     "metadata": {},
     "output_type": "display_data"
    }
   ],
   "source": [
    "fig = plt.figure(figsize=(15,8))\n",
    "for i, image in enumerate(vae.test_targets[case]):\n",
    "    fig.add_subplot(1, 7, i+1)\n",
    "    plt.imshow(image,cmap='gray')"
   ]
  },
  {
   "cell_type": "markdown",
   "metadata": {},
   "source": [
    "### Adjust the data shape\n",
    "this part should be different for different model, the q-RNN model does not igorned the sequencial dependency within the dataset, so we don't need to flat the dataset. So that the dataset should be that given a sequence of noisy image $\\{p_i\\}$ and a sequences of action $\\{u_i\\}$, the target should be the image of next timestep given action $u_n$"
   ]
  },
  {
   "cell_type": "code",
   "execution_count": 18,
   "metadata": {},
   "outputs": [
    {
     "name": "stdout",
     "output_type": "stream",
     "text": [
      "(60000, 5, 28, 28) (60000, 5) (60000, 5, 28, 28)\n",
      "(10000, 5, 28, 28) (10000, 5) (10000, 5, 28, 28)\n"
     ]
    }
   ],
   "source": [
    "train_X = hmnist.train_images\n",
    "train_u = hmnist.train_rotations\n",
    "train_Y = hmnist.train_targets\n",
    "test_X = hmnist.test_images\n",
    "test_u = hmnist.test_rotations\n",
    "test_Y = hmnist.test_targets\n",
    "print(train_X.shape,train_u.shape,train_Y.shape)\n",
    "print(test_X.shape,test_u.shape,test_Y.shape)"
   ]
  },
  {
   "cell_type": "code",
   "execution_count": 19,
   "metadata": {},
   "outputs": [
    {
     "name": "stdout",
     "output_type": "stream",
     "text": [
      "(60000, 5, 28, 28) (60000, 5) (60000, 5, 28, 28)\n",
      "(10000, 5, 28, 28) (10000, 5) (10000, 5, 28, 28)\n"
     ]
    }
   ],
   "source": [
    "#no adjustment needed\n",
    "\n",
    "#train_Y = train_Y[:,4,:,:]\n",
    "#test_Y = test_Y[:,4,:,:]\n",
    "\n",
    "print(train_X.shape,train_u.shape,train_Y.shape)\n",
    "print(test_X.shape,test_u.shape,test_Y.shape)"
   ]
  },
  {
   "cell_type": "code",
   "execution_count": 20,
   "metadata": {},
   "outputs": [
    {
     "name": "stdout",
     "output_type": "stream",
     "text": [
      "(60000, 6, 28, 28) (60000, 6, 28, 28)\n",
      "(10000, 6, 28, 28) (10000, 6, 28, 28)\n"
     ]
    }
   ],
   "source": [
    "vae_train_X = vae.train_images\n",
    "vae_train_Y = vae.train_targets\n",
    "vae_test_X = vae.test_images\n",
    "vae_test_Y = vae.test_targets\n",
    "print(vae_train_X.shape,vae_train_Y.shape)\n",
    "print(vae_test_X.shape,vae_test_Y.shape)"
   ]
  },
  {
   "cell_type": "code",
   "execution_count": 21,
   "metadata": {},
   "outputs": [
    {
     "name": "stdout",
     "output_type": "stream",
     "text": [
      "(360000, 28, 28) (360000, 28, 28)\n",
      "(60000, 28, 28) (60000, 28, 28)\n"
     ]
    }
   ],
   "source": [
    "#for the above six parameter, flaten the first two dimension\n",
    "vae_train_X = vae_train_X.reshape(-1,28,28)\n",
    "vae_train_Y = vae_train_Y.reshape(-1,28,28)\n",
    "vae_test_X = vae_test_X.reshape(-1,28,28)\n",
    "vae_test_Y = vae_test_Y.reshape(-1,28,28)\n",
    "print(vae_train_X.shape,vae_train_Y.shape)\n",
    "print(vae_test_X.shape,vae_test_Y.shape)"
   ]
  },
  {
   "cell_type": "markdown",
   "metadata": {},
   "source": [
    "### Dataset object"
   ]
  },
  {
   "cell_type": "code",
   "execution_count": 22,
   "metadata": {
    "collapsed": true
   },
   "outputs": [],
   "source": [
    "class HMNISTDataSet():\n",
    "    def __init__(self, train_img, train_act, train_tar, test_img, test_act, test_tar, test = False, transform=None):\n",
    "        self.test = test\n",
    "        self.transform = transform\n",
    "\n",
    "        if (self.test == False):\n",
    "          self.images = train_img\n",
    "          self.targets = train_tar\n",
    "          self.rotations = train_act\n",
    "\n",
    "        else:      \n",
    "          self.images = test_img\n",
    "          self.targets = test_tar\n",
    "          self.rotations = test_act\n",
    "\n",
    "    def __len__(self):\n",
    "        return len(self.images)\n",
    "    \n",
    "    def __getitem__(self, index):\n",
    "        if self.transform is not None:\n",
    "            img = torch.zeros((len(self.images[index]),1,28,28))\n",
    "            for i in range(len(self.images[index])):\n",
    "                img[i] = self.transform(self.images[index][i].reshape(28,28,1))\n",
    "            tar = torch.zeros((len(self.targets[index]),1,28,28))\n",
    "            for i in range(len(self.targets[index])):\n",
    "                tar[i] = self.transform(self.targets[index][i].reshape(28,28,1))\n",
    "                \n",
    "            rot = torch.tensor(self.rotations[index])\n",
    "        return img, rot, tar"
   ]
  },
  {
   "cell_type": "code",
   "execution_count": 23,
   "metadata": {
    "collapsed": true
   },
   "outputs": [],
   "source": [
    "class VAEDataSet():\n",
    "    def __init__(self, train_img, train_tar, test_img, test_tar, test = False, transform=None):\n",
    "        self.test = test\n",
    "        self.transform = transform\n",
    "\n",
    "        if (self.test == False):\n",
    "          self.images = train_img\n",
    "          self.targets = train_tar\n",
    "\n",
    "\n",
    "        else:      \n",
    "          self.images = test_img\n",
    "          self.targets = test_tar\n",
    "\n",
    "\n",
    "    def __len__(self):\n",
    "        return len(self.images)\n",
    "    \n",
    "    def __getitem__(self, index):\n",
    "        if self.transform is not None:\n",
    "            img = self.transform(self.images[index].reshape(28,28,1))\n",
    "            tar = self.transform(self.targets[index].reshape(28,28,1))\n",
    "        return img, tar"
   ]
  },
  {
   "cell_type": "code",
   "execution_count": 24,
   "metadata": {
    "collapsed": true
   },
   "outputs": [],
   "source": [
    "train_set = HMNISTDataSet(train_X, train_u, train_Y, test_X, test_u, test_Y, test = False, transform = transforms.ToTensor())\n",
    "test_set = HMNISTDataSet(train_X, train_u, train_Y, test_X, test_u, test_Y, test = True, transform = transforms.ToTensor())"
   ]
  },
  {
   "cell_type": "code",
   "execution_count": 25,
   "metadata": {
    "collapsed": true
   },
   "outputs": [],
   "source": [
    "vae_train_set = VAEDataSet(vae_train_X, vae_train_Y, vae_test_X, vae_test_Y, test = False, transform = transforms.ToTensor())\n",
    "vae_test_set = VAEDataSet(vae_train_X, vae_train_Y, vae_test_X, vae_test_Y, test = True, transform = transforms.ToTensor())"
   ]
  },
  {
   "cell_type": "code",
   "execution_count": 26,
   "metadata": {},
   "outputs": [
    {
     "data": {
      "text/plain": [
       "torch.Size([1, 28, 28])"
      ]
     },
     "execution_count": 26,
     "metadata": {},
     "output_type": "execute_result"
    }
   ],
   "source": [
    "a,b = vae_train_set.__getitem__(3)\n",
    "b.shape\n"
   ]
  },
  {
   "cell_type": "markdown",
   "metadata": {},
   "source": [
    "### Create DataLoader"
   ]
  },
  {
   "cell_type": "code",
   "execution_count": 27,
   "metadata": {
    "collapsed": true
   },
   "outputs": [],
   "source": [
    "train_loader = torch.utils.data.DataLoader(train_set, batch_size=batch_size, shuffle=True, **kwargs)\n",
    "test_loader = torch.utils.data.DataLoader(test_set, batch_size=batch_size, shuffle=True, **kwargs)"
   ]
  },
  {
   "cell_type": "code",
   "execution_count": 28,
   "metadata": {
    "collapsed": true
   },
   "outputs": [],
   "source": [
    "vae_train_loader = torch.utils.data.DataLoader(vae_train_set, batch_size=vae_batch_size, shuffle=True, **kwargs)\n",
    "vae_test_loader = torch.utils.data.DataLoader(vae_test_set, batch_size=vae_batch_size, shuffle=True, **kwargs)"
   ]
  },
  {
   "cell_type": "markdown",
   "metadata": {},
   "source": [
    "### Model definition"
   ]
  },
  {
   "cell_type": "code",
   "execution_count": 42,
   "metadata": {
    "collapsed": true
   },
   "outputs": [],
   "source": [
    "# the purpose of this model is to examine whether pretrain vae is possible or not\n",
    "\n",
    "class VAE(nn.Module):\n",
    "    def __init__(self):\n",
    "        super(VAE, self).__init__()\n",
    "\n",
    "        self.fc1 = nn.Linear(784, h_d)\n",
    "        self.fc2 = nn.Linear(h_d,128)\n",
    "        self.fc21 = nn.Linear(128, l_d)\n",
    "        self.fc22 = nn.Linear(128, l_d)\n",
    "        \n",
    "        #transition layer\n",
    "        input_dim = l_d + u_d\n",
    "        self.rnn_mu = nn.RNN(input_size=input_dim,hidden_size=l_d,batch_first=True)\n",
    "        self.rnn_sigma = nn.RNN(input_size=input_dim,hidden_size=l_d,batch_first=True)\n",
    "        \n",
    "        \n",
    "        self.fc3 = nn.Linear(l_d, 128)\n",
    "        self.fc4 = nn.Linear(128,h_d)\n",
    "        self.fc5 = nn.Linear(h_d, 784)\n",
    "\n",
    "    def encode(self, x):\n",
    "        x = x.float()\n",
    "        h1 = F.relu(self.fc1(x))\n",
    "        h2 = F.relu(self.fc2(h1))\n",
    "        return self.fc21(h2), self.fc22(h2)\n",
    "\n",
    "    def reparameterize1(self, mu, logvar, n=1):\n",
    "        std = torch.exp(0.5*logvar)\n",
    "        eps = torch.randn_like(std)\n",
    "        return mu + eps*std\n",
    "    \n",
    "    def transition(self, z, u):\n",
    "        rnn_input = torch.cat((z,u),dim=2)\n",
    "        mu2,_ = self.rnn_mu(rnn_input)\n",
    "        logvar2,_ = self.rnn_sigma(rnn_input)\n",
    "        return mu2,logvar2\n",
    "    \n",
    "    def reparameterize2(self, mu, logvar):\n",
    "        std = torch.exp(0.5*logvar)\n",
    "        eps = torch.randn_like(std)\n",
    "        return mu + eps*std\n",
    "\n",
    "    def decode(self, z):\n",
    "        h3 = F.relu(self.fc3(z))\n",
    "        h4 = F.relu(self.fc4(h3))\n",
    "        return torch.sigmoid(self.fc5(h4))\n",
    "\n",
    "    def forward(self, x=None,mu_i=None,logvar_i=None,u=None, vae=False, rnn=False):\n",
    "        if vae:\n",
    "            mu1, logvar1 = self.encode(x.view(-1, 784))\n",
    "            z1 = self.reparameterize1(mu1, logvar1)\n",
    "            return self.decode(z1), mu1, logvar1\n",
    "        elif rnn:\n",
    "            mu = torch.empty(sample_size, x.shape[0], x.shape[1], l_d , dtype=torch.float).to(device)\n",
    "            logvar = torch.empty(sample_size, x.shape[0], x.shape[1], l_d , dtype=torch.float).to(device)\n",
    "            for i in range(sample_size):\n",
    "                z1 = self.reparameterize1(mu_i, logvar_i)\n",
    "                z1 = z1.reshape(-1,5,32)\n",
    "                u = u.float()\n",
    "                mu2, logvar2 = self.transition(z1,u.reshape(-1,5,1))\n",
    "                mu[i] = mu2\n",
    "                logvar[i] = logvar2\n",
    "            return mu, logvar\n",
    "        else:\n",
    "            mu1, logvar1 = self.encode(x.view(-1, 784))\n",
    "            mu = torch.empty(sample_size, x.shape[0], x.shape[1], l_d , dtype=torch.float).to(device)\n",
    "            logvar = torch.empty(sample_size, x.shape[0], x.shape[1], l_d , dtype=torch.float).to(device)\n",
    "            for i in range(sample_size):\n",
    "                z1 = self.reparameterize1(mu1, logvar1)\n",
    "                z1 = z1.reshape(-1,5,32)\n",
    "                u = u.float()\n",
    "                mu2, logvar2 = self.transition(z1,u.reshape(-1,5,1))\n",
    "                mu[i] = mu2\n",
    "                logvar[i] = logvar2\n",
    "            z2 = self.reparameterize2(mu[0], logvar[0])\n",
    "            return self.decode(z2), mu, logvar"
   ]
  },
  {
   "cell_type": "code",
   "execution_count": 44,
   "metadata": {
    "collapsed": true
   },
   "outputs": [],
   "source": [
    "# Reconstruction + KL divergence losses summed over all elements and batch\n",
    "def loss_function(recon_x, x, mu, logvar):\n",
    "    BCE = F.binary_cross_entropy(recon_x, x.view(-1, 784), reduction='sum')\n",
    "\n",
    "    # see Appendix B from VAE paper:\n",
    "    # Kingma and Welling. Auto-Encoding Variational Bayes. ICLR, 2014\n",
    "    # https://arxiv.org/abs/1312.6114\n",
    "    # 0.5 * sum(1 + log(sigma^2) - mu^2 - sigma^2)\n",
    "    KLD = -0.5 * torch.sum(1 + logvar[0,:,0,:] - mu[0,:,0,:].pow(2) - logvar[0,:,0,:].exp())\n",
    "    EKLD = 0\n",
    "    for i in range(1,5):        \n",
    "        tmp = -0.5 * torch.sum(1 + logvar[:,:,i,:] - mu[:,:,i,:].pow(2) - logvar[:,:,i,:].exp())/sample_size\n",
    "        EKLD += tmp\n",
    "    return BCE + KLD + EKLD"
   ]
  },
  {
   "cell_type": "code",
   "execution_count": 45,
   "metadata": {
    "collapsed": true
   },
   "outputs": [],
   "source": [
    "# Reconstruction + KL divergence losses summed over all elements and batch\n",
    "def vae_loss_function(recon_x, x, mu, logvar):\n",
    "    x = x.float()\n",
    "    BCE = F.binary_cross_entropy(recon_x, x.view(-1, 784), reduction='sum')\n",
    "\n",
    "    # see Appendix B from VAE paper:\n",
    "    # Kingma and Welling. Auto-Encoding Variational Bayes. ICLR, 2014\n",
    "    # https://arxiv.org/abs/1312.6114\n",
    "    # 0.5 * sum(1 + log(sigma^2) - mu^2 - sigma^2)\n",
    "    KLD = -0.5 * torch.sum(1 + logvar - mu.pow(2) - logvar.exp())\n",
    "\n",
    "    return BCE + KLD"
   ]
  },
  {
   "cell_type": "code",
   "execution_count": 46,
   "metadata": {
    "collapsed": true
   },
   "outputs": [],
   "source": [
    "# Reconstruction + KL divergence losses summed over all elements and batch\n",
    "def rnn_loss_function(mu, logvar):\n",
    "\n",
    "    # see Appendix B from VAE paper:\n",
    "    # Kingma and Welling. Auto-Encoding Variational Bayes. ICLR, 2014\n",
    "    # https://arxiv.org/abs/1312.6114\n",
    "    # 0.5 * sum(1 + log(sigma^2) - mu^2 - sigma^2)\n",
    "    KLD = -0.5 * torch.sum(1 + logvar[0,:,0,:] - mu[0,:,0,:].pow(2) - logvar[0,:,0,:].exp())\n",
    "    EKLD = 0\n",
    "    for i in range(1,5):        \n",
    "        tmp = -0.5 * torch.sum(1 + logvar[:,:,i,:] - mu[:,:,i,:].pow(2) - logvar[:,:,i,:].exp())/sample_size\n",
    "        EKLD += tmp\n",
    "    return KLD + EKLD"
   ]
  },
  {
   "cell_type": "markdown",
   "metadata": {},
   "source": [
    "### Define training and testing algorithm"
   ]
  },
  {
   "cell_type": "code",
   "execution_count": 96,
   "metadata": {
    "collapsed": true
   },
   "outputs": [],
   "source": [
    "def train_vae():\n",
    "    #freeze the rnn layer first\n",
    "    count = 0\n",
    "    for child in model.children():\n",
    "        if count == 4 or count == 5:\n",
    "            for param in child.parameters():\n",
    "                param.requires_grad = False;\n",
    "        count += 1;\n",
    "    \n",
    "    model.train()\n",
    "    for i in range(vae_epochs):\n",
    "        train_loss = 0\n",
    "        for batch_idx, (img, target) in enumerate(vae_train_loader):\n",
    "            img = img.cuda()\n",
    "            target = target.cuda()\n",
    "            optimizer.zero_grad()\n",
    "            recon_batch, mu, logvar = model.forward(x=img,vae=True)\n",
    "            loss = vae_loss_function(recon_batch, target, mu, logvar)\n",
    "            loss.backward()\n",
    "            train_loss += loss.item()\n",
    "            optimizer.step()\n",
    "\n",
    "        print('====> Epoch: {} Average loss: {:.4f}'.format(\n",
    "              i + 1, train_loss / len(vae_train_loader.dataset)))\n",
    "    print(\"vae pretrain has been done\")"
   ]
  },
  {
   "cell_type": "code",
   "execution_count": 97,
   "metadata": {
    "collapsed": true
   },
   "outputs": [],
   "source": [
    "def finish_vae():\n",
    "    for child in model.children():\n",
    "        for param in child.parameters():\n",
    "            param.requires_grad = True;\n",
    "    print(\"ready for rnn model train\")"
   ]
  },
  {
   "cell_type": "code",
   "execution_count": 98,
   "metadata": {
    "collapsed": true
   },
   "outputs": [],
   "source": [
    "def train_rnn():\n",
    "    #freeze the vae layer first\n",
    "    count = 0\n",
    "    for child in model.children():\n",
    "        if count != 4 or count != 5:\n",
    "            for param in child.parameters():\n",
    "                param.requires_grad = False;\n",
    "        count += 1;\n",
    "    \n",
    "    model.train()\n",
    "    for i in range(rnn_epochs):\n",
    "        train_loss = 0\n",
    "        for batch_idx, (img, action, target) in enumerate(train_loader):     \n",
    "            img = img.to(device)\n",
    "            action = action.to(device)\n",
    "            target = target.to(device)\n",
    "            with torch.no_grad():\n",
    "                mu, logvar = model.encode(img.view(-1, 784))\n",
    "                \n",
    "            optimizer.zero_grad()\n",
    "            mu.requires_grad = True\n",
    "            logvar.requires_grad = True\n",
    "            mu1, logvar1 = model.forward(x=img,u=action,mu_i=mu,logvar_i=logvar,rnn=True)\n",
    "            loss = rnn_loss_function(mu1, logvar1)\n",
    "            loss.backward()\n",
    "            train_loss += loss.item()\n",
    "            optimizer.step()\n",
    "        print('====> Epoch: {} Average loss: {:.4f}'.format(\n",
    "              i + 1, train_loss / len(vae_train_loader.dataset)))\n",
    "    print(\"rnn pretrain has been done\")"
   ]
  },
  {
   "cell_type": "code",
   "execution_count": 99,
   "metadata": {
    "collapsed": true
   },
   "outputs": [],
   "source": [
    "def finish_rnn():\n",
    "    for child in model.children():\n",
    "        for param in child.parameters():\n",
    "            param.requires_grad = True;\n",
    "    print(\"ready for the whole model train\")"
   ]
  },
  {
   "cell_type": "code",
   "execution_count": 100,
   "metadata": {
    "collapsed": true
   },
   "outputs": [],
   "source": [
    "def train(epoch):\n",
    "    model.train()\n",
    "    train_loss = 0\n",
    "    for batch_idx, (img, action, target) in enumerate(train_loader):\n",
    "        img = img.to(device)\n",
    "        action = action.to(device)\n",
    "        target = target.to(device)\n",
    "        optimizer.zero_grad()\n",
    "        recon_batch, mu, logvar = model(x=img,u=action)\n",
    "        loss = loss_function(recon_batch, target, mu, logvar)\n",
    "        loss.backward()\n",
    "        train_loss += loss.item()\n",
    "        optimizer.step()\n",
    "        #if batch_idx % log_interval == 0:\n",
    "         #   print('Train Epoch: {} [{}/{} ({:.0f}%)]\\tLoss: {:.6f}'.format(\n",
    "          #      epoch, batch_idx * len(img), len(train_loader.dataset),\n",
    "           #     100. * batch_idx / len(train_loader),\n",
    "            #    loss.item() / len(img)))\n",
    "\n",
    "    print('====> Epoch: {} Average loss: {:.4f}'.format(\n",
    "          epoch, train_loss / len(train_loader.dataset)))\n",
    "    return train_loss / len(train_loader.dataset)"
   ]
  },
  {
   "cell_type": "code",
   "execution_count": 101,
   "metadata": {
    "collapsed": true
   },
   "outputs": [],
   "source": [
    "def test(epoch):\n",
    "    model.eval()\n",
    "    test_loss = 0\n",
    "    with torch.no_grad():\n",
    "        for i, (img, action, target) in enumerate(test_loader):\n",
    "            img = img.to(device)\n",
    "            action = action.to(device)\n",
    "            target = target.to(device)\n",
    "            recon_batch, mu, logvar = model(x=img, u=action)\n",
    "            test_loss += loss_function(recon_batch, target, mu, logvar).item()\n",
    "            if(epoch > epochs - 10):\n",
    "                if i == 0:\n",
    "                    n = np.random.randint(0,batch_size)\n",
    "                    comparison = torch.cat([target[n],\n",
    "                                          recon_batch.view(batch_size, 5, 1, 28, 28)[n]],dim=0)\n",
    "                    save_image(comparison.cpu(),\n",
    "                             'results/reconstruction_' + str(epoch) + '.png', nrow=5)\n",
    "\n",
    "    test_loss /= len(test_loader.dataset)\n",
    "    print('====> Test set loss: {:.4f}'.format(test_loss))\n",
    "    return test_loss"
   ]
  },
  {
   "cell_type": "markdown",
   "metadata": {},
   "source": [
    "### Run training"
   ]
  },
  {
   "cell_type": "code",
   "execution_count": 95,
   "metadata": {
    "collapsed": true
   },
   "outputs": [],
   "source": [
    "model = VAE().to(device)\n",
    "#adam optimizer\n",
    "optimizer = optim.Adam(model.parameters(), lr=1e-3)"
   ]
  },
  {
   "cell_type": "code",
   "execution_count": 102,
   "metadata": {},
   "outputs": [
    {
     "name": "stdout",
     "output_type": "stream",
     "text": [
      "====> Epoch: 1 Average loss: 192.0418\n",
      "====> Epoch: 2 Average loss: 142.9048\n",
      "====> Epoch: 3 Average loss: 129.1424\n",
      "====> Epoch: 4 Average loss: 122.7451\n",
      "====> Epoch: 5 Average loss: 118.9887\n",
      "====> Epoch: 6 Average loss: 116.3216\n",
      "====> Epoch: 7 Average loss: 114.4632\n",
      "====> Epoch: 8 Average loss: 113.1223\n",
      "====> Epoch: 9 Average loss: 112.0737\n",
      "====> Epoch: 10 Average loss: 111.2387\n",
      "====> Epoch: 11 Average loss: 110.5473\n",
      "====> Epoch: 12 Average loss: 109.9740\n",
      "====> Epoch: 13 Average loss: 109.4127\n",
      "====> Epoch: 14 Average loss: 109.0301\n",
      "====> Epoch: 15 Average loss: 108.6125\n",
      "====> Epoch: 16 Average loss: 108.2380\n",
      "====> Epoch: 17 Average loss: 107.8842\n",
      "====> Epoch: 18 Average loss: 107.6355\n",
      "====> Epoch: 19 Average loss: 107.3292\n",
      "====> Epoch: 20 Average loss: 107.0471\n",
      "====> Epoch: 21 Average loss: 106.8174\n",
      "====> Epoch: 22 Average loss: 106.6014\n",
      "====> Epoch: 23 Average loss: 106.4046\n",
      "====> Epoch: 24 Average loss: 106.1653\n",
      "====> Epoch: 25 Average loss: 105.9837\n",
      "====> Epoch: 26 Average loss: 105.8036\n",
      "====> Epoch: 27 Average loss: 105.5983\n",
      "====> Epoch: 28 Average loss: 105.4469\n",
      "====> Epoch: 29 Average loss: 105.3016\n",
      "====> Epoch: 30 Average loss: 105.1443\n",
      "====> Epoch: 31 Average loss: 105.0188\n",
      "====> Epoch: 32 Average loss: 104.8743\n",
      "====> Epoch: 33 Average loss: 104.7220\n",
      "====> Epoch: 34 Average loss: 104.5958\n",
      "====> Epoch: 35 Average loss: 104.4894\n",
      "====> Epoch: 36 Average loss: 104.3810\n",
      "====> Epoch: 37 Average loss: 104.2935\n",
      "====> Epoch: 38 Average loss: 104.1634\n",
      "====> Epoch: 39 Average loss: 104.0901\n",
      "====> Epoch: 40 Average loss: 103.9337\n",
      "====> Epoch: 41 Average loss: 103.8887\n",
      "====> Epoch: 42 Average loss: 103.7861\n",
      "====> Epoch: 43 Average loss: 103.7029\n",
      "====> Epoch: 44 Average loss: 103.6134\n",
      "====> Epoch: 45 Average loss: 103.5404\n",
      "====> Epoch: 46 Average loss: 103.4861\n",
      "====> Epoch: 47 Average loss: 103.3822\n",
      "====> Epoch: 48 Average loss: 103.3091\n",
      "====> Epoch: 49 Average loss: 103.2600\n",
      "====> Epoch: 50 Average loss: 103.1820\n",
      "vae pretrain has been done\n",
      "ready for rnn model train\n"
     ]
    }
   ],
   "source": [
    "train_vae()\n",
    "finish_vae()"
   ]
  },
  {
   "cell_type": "code",
   "execution_count": 103,
   "metadata": {},
   "outputs": [
    {
     "name": "stdout",
     "output_type": "stream",
     "text": [
      "====> Epoch: 1 Average loss: 16.6551\n",
      "====> Epoch: 2 Average loss: 16.6551\n",
      "====> Epoch: 3 Average loss: 16.6553\n",
      "====> Epoch: 4 Average loss: 16.6554\n",
      "====> Epoch: 5 Average loss: 16.6553\n",
      "====> Epoch: 6 Average loss: 16.6547\n",
      "====> Epoch: 7 Average loss: 16.6553\n",
      "====> Epoch: 8 Average loss: 16.6549\n",
      "====> Epoch: 9 Average loss: 16.6551\n",
      "====> Epoch: 10 Average loss: 16.6552\n",
      "rnn pretrain has been done\n",
      "ready for the whole model train\n"
     ]
    }
   ],
   "source": [
    "import warnings;\n",
    "warnings.filterwarnings('ignore')\n",
    "\n",
    "train_rnn()\n",
    "finish_rnn()"
   ]
  },
  {
   "cell_type": "code",
   "execution_count": 104,
   "metadata": {
    "scrolled": true
   },
   "outputs": [
    {
     "name": "stdout",
     "output_type": "stream",
     "text": [
      "====> Epoch: 1 Average loss: 1072.0767\n",
      "====> Test set loss: 977.3884\n",
      "====> Epoch: 2 Average loss: 957.7257\n",
      "====> Test set loss: 938.1437\n",
      "====> Epoch: 3 Average loss: 926.3934\n",
      "====> Test set loss: 911.8797\n",
      "====> Epoch: 4 Average loss: 904.6363\n",
      "====> Test set loss: 894.8882\n",
      "====> Epoch: 5 Average loss: 890.9514\n",
      "====> Test set loss: 884.1969\n",
      "====> Epoch: 6 Average loss: 881.7021\n",
      "====> Test set loss: 875.1841\n",
      "====> Epoch: 7 Average loss: 873.5355\n",
      "====> Test set loss: 868.2546\n",
      "====> Epoch: 8 Average loss: 866.3834\n",
      "====> Test set loss: 863.9958\n",
      "====> Epoch: 9 Average loss: 860.5858\n",
      "====> Test set loss: 857.3587\n",
      "====> Epoch: 10 Average loss: 856.0688\n",
      "====> Test set loss: 854.2608\n",
      "====> Epoch: 11 Average loss: 852.2928\n",
      "====> Test set loss: 851.9351\n",
      "====> Epoch: 12 Average loss: 848.4045\n",
      "====> Test set loss: 847.2105\n",
      "====> Epoch: 13 Average loss: 845.3711\n",
      "====> Test set loss: 843.7339\n",
      "====> Epoch: 14 Average loss: 842.5777\n",
      "====> Test set loss: 842.6448\n",
      "====> Epoch: 15 Average loss: 839.5112\n",
      "====> Test set loss: 839.0293\n",
      "====> Epoch: 16 Average loss: 836.9849\n",
      "====> Test set loss: 835.6211\n",
      "====> Epoch: 17 Average loss: 834.1467\n",
      "====> Test set loss: 833.7121\n",
      "====> Epoch: 18 Average loss: 831.9297\n",
      "====> Test set loss: 831.4548\n",
      "====> Epoch: 19 Average loss: 829.8986\n",
      "====> Test set loss: 831.1671\n",
      "====> Epoch: 20 Average loss: 828.0778\n",
      "====> Test set loss: 830.6036\n",
      "====> Epoch: 21 Average loss: 826.2480\n",
      "====> Test set loss: 828.1644\n",
      "====> Epoch: 22 Average loss: 824.8094\n",
      "====> Test set loss: 825.5743\n",
      "====> Epoch: 23 Average loss: 823.2270\n",
      "====> Test set loss: 824.2361\n",
      "====> Epoch: 24 Average loss: 821.7397\n",
      "====> Test set loss: 824.0125\n",
      "====> Epoch: 25 Average loss: 820.5843\n",
      "====> Test set loss: 821.7475\n",
      "====> Epoch: 26 Average loss: 819.1742\n",
      "====> Test set loss: 821.9183\n",
      "====> Epoch: 27 Average loss: 818.2837\n",
      "====> Test set loss: 819.7893\n",
      "====> Epoch: 28 Average loss: 816.9293\n",
      "====> Test set loss: 820.7075\n",
      "====> Epoch: 29 Average loss: 815.6391\n",
      "====> Test set loss: 818.5827\n",
      "====> Epoch: 30 Average loss: 814.3736\n",
      "====> Test set loss: 817.6707\n",
      "====> Epoch: 31 Average loss: 813.6482\n",
      "====> Test set loss: 816.2452\n",
      "====> Epoch: 32 Average loss: 812.4470\n",
      "====> Test set loss: 814.8732\n",
      "====> Epoch: 33 Average loss: 812.1449\n",
      "====> Test set loss: 816.3023\n",
      "====> Epoch: 34 Average loss: 811.2390\n",
      "====> Test set loss: 815.4422\n",
      "====> Epoch: 35 Average loss: 810.1015\n",
      "====> Test set loss: 814.1968\n",
      "====> Epoch: 36 Average loss: 809.4607\n",
      "====> Test set loss: 812.7025\n",
      "====> Epoch: 37 Average loss: 808.6264\n",
      "====> Test set loss: 813.4006\n",
      "====> Epoch: 38 Average loss: 807.9345\n",
      "====> Test set loss: 812.3508\n",
      "====> Epoch: 39 Average loss: 807.4795\n",
      "====> Test set loss: 811.6520\n",
      "====> Epoch: 40 Average loss: 806.7211\n",
      "====> Test set loss: 811.2866\n",
      "====> Epoch: 41 Average loss: 806.1455\n",
      "====> Test set loss: 810.2270\n",
      "====> Epoch: 42 Average loss: 805.5226\n",
      "====> Test set loss: 811.6577\n",
      "====> Epoch: 43 Average loss: 804.7187\n",
      "====> Test set loss: 809.2232\n",
      "====> Epoch: 44 Average loss: 804.2308\n",
      "====> Test set loss: 809.0304\n",
      "====> Epoch: 45 Average loss: 804.0004\n",
      "====> Test set loss: 808.5468\n",
      "====> Epoch: 46 Average loss: 803.2113\n",
      "====> Test set loss: 809.3900\n",
      "====> Epoch: 47 Average loss: 802.7732\n",
      "====> Test set loss: 810.7555\n",
      "====> Epoch: 48 Average loss: 802.7669\n",
      "====> Test set loss: 809.2414\n",
      "====> Epoch: 49 Average loss: 801.8096\n",
      "====> Test set loss: 808.2652\n",
      "====> Epoch: 50 Average loss: 801.7441\n",
      "====> Test set loss: 807.6940\n",
      "====> Epoch: 51 Average loss: 801.0499\n",
      "====> Test set loss: 805.9063\n",
      "====> Epoch: 52 Average loss: 800.5686\n",
      "====> Test set loss: 808.3279\n",
      "====> Epoch: 53 Average loss: 800.2696\n",
      "====> Test set loss: 807.4276\n",
      "====> Epoch: 54 Average loss: 799.4718\n",
      "====> Test set loss: 806.2159\n",
      "====> Epoch: 55 Average loss: 799.4730\n",
      "====> Test set loss: 806.3191\n",
      "====> Epoch: 56 Average loss: 799.0797\n",
      "====> Test set loss: 805.7455\n",
      "====> Epoch: 57 Average loss: 798.6346\n",
      "====> Test set loss: 806.1115\n",
      "====> Epoch: 58 Average loss: 798.3439\n",
      "====> Test set loss: 804.6137\n",
      "====> Epoch: 59 Average loss: 798.0584\n",
      "====> Test set loss: 807.3520\n",
      "====> Epoch: 60 Average loss: 797.4915\n",
      "====> Test set loss: 804.6816\n",
      "====> Epoch: 61 Average loss: 797.0561\n",
      "====> Test set loss: 805.6483\n",
      "====> Epoch: 62 Average loss: 796.9849\n",
      "====> Test set loss: 805.2328\n",
      "====> Epoch: 63 Average loss: 796.4167\n",
      "====> Test set loss: 806.1212\n",
      "====> Epoch: 64 Average loss: 796.2414\n",
      "====> Test set loss: 803.8748\n",
      "====> Epoch: 65 Average loss: 796.1870\n",
      "====> Test set loss: 805.2500\n",
      "====> Epoch: 66 Average loss: 795.6719\n",
      "====> Test set loss: 803.7503\n",
      "====> Epoch: 67 Average loss: 795.4027\n",
      "====> Test set loss: 803.1586\n",
      "====> Epoch: 68 Average loss: 794.8066\n",
      "====> Test set loss: 802.4711\n",
      "====> Epoch: 69 Average loss: 794.5387\n",
      "====> Test set loss: 802.8889\n",
      "====> Epoch: 70 Average loss: 794.2032\n",
      "====> Test set loss: 805.5210\n",
      "====> Epoch: 71 Average loss: 794.0547\n",
      "====> Test set loss: 803.1857\n",
      "====> Epoch: 72 Average loss: 793.6898\n",
      "====> Test set loss: 802.2795\n",
      "====> Epoch: 73 Average loss: 793.2781\n",
      "====> Test set loss: 801.6058\n",
      "====> Epoch: 74 Average loss: 793.0948\n",
      "====> Test set loss: 801.8845\n",
      "====> Epoch: 75 Average loss: 792.5238\n",
      "====> Test set loss: 801.4735\n",
      "====> Epoch: 76 Average loss: 792.8150\n",
      "====> Test set loss: 801.5955\n",
      "====> Epoch: 77 Average loss: 792.3693\n",
      "====> Test set loss: 803.7935\n",
      "====> Epoch: 78 Average loss: 791.8575\n",
      "====> Test set loss: 802.3850\n",
      "====> Epoch: 79 Average loss: 791.8921\n",
      "====> Test set loss: 802.1757\n",
      "====> Epoch: 80 Average loss: 791.8812\n",
      "====> Test set loss: 801.2205\n",
      "====> Epoch: 81 Average loss: 791.2851\n",
      "====> Test set loss: 801.4234\n",
      "====> Epoch: 82 Average loss: 791.5705\n",
      "====> Test set loss: 800.3028\n",
      "====> Epoch: 83 Average loss: 791.1798\n",
      "====> Test set loss: 801.2151\n",
      "====> Epoch: 84 Average loss: 791.0946\n",
      "====> Test set loss: 802.3814\n",
      "====> Epoch: 85 Average loss: 790.5799\n",
      "====> Test set loss: 801.5244\n",
      "====> Epoch: 86 Average loss: 790.7729\n",
      "====> Test set loss: 799.8554\n",
      "====> Epoch: 87 Average loss: 790.1482\n",
      "====> Test set loss: 800.2037\n",
      "====> Epoch: 88 Average loss: 790.1094\n",
      "====> Test set loss: 799.9854\n",
      "====> Epoch: 89 Average loss: 790.1317\n",
      "====> Test set loss: 801.3709\n",
      "====> Epoch: 90 Average loss: 789.9106\n",
      "====> Test set loss: 800.5617\n",
      "====> Epoch: 91 Average loss: 789.3949\n",
      "====> Test set loss: 800.3757\n",
      "====> Epoch: 92 Average loss: 789.8078\n",
      "====> Test set loss: 799.9814\n",
      "====> Epoch: 93 Average loss: 789.4528\n",
      "====> Test set loss: 798.9165\n",
      "====> Epoch: 94 Average loss: 788.8633\n",
      "====> Test set loss: 799.9446\n",
      "====> Epoch: 95 Average loss: 789.2431\n",
      "====> Test set loss: 799.0857\n",
      "====> Epoch: 96 Average loss: 788.7240\n",
      "====> Test set loss: 799.4690\n",
      "====> Epoch: 97 Average loss: 788.6142\n",
      "====> Test set loss: 801.4232\n",
      "====> Epoch: 98 Average loss: 788.2572\n",
      "====> Test set loss: 800.0654\n",
      "====> Epoch: 99 Average loss: 787.8646\n",
      "====> Test set loss: 799.3547\n",
      "====> Epoch: 100 Average loss: 787.8095\n",
      "====> Test set loss: 798.3896\n",
      "====> Epoch: 101 Average loss: 787.9710\n",
      "====> Test set loss: 799.9688\n",
      "====> Epoch: 102 Average loss: 787.5769\n",
      "====> Test set loss: 800.1506\n",
      "====> Epoch: 103 Average loss: 787.5997\n",
      "====> Test set loss: 799.1742\n",
      "====> Epoch: 104 Average loss: 787.9572\n",
      "====> Test set loss: 799.0206\n",
      "====> Epoch: 105 Average loss: 787.3692\n",
      "====> Test set loss: 799.4776\n",
      "====> Epoch: 106 Average loss: 786.6983\n",
      "====> Test set loss: 798.2656\n",
      "====> Epoch: 107 Average loss: 786.5105\n",
      "====> Test set loss: 799.2215\n",
      "====> Epoch: 108 Average loss: 787.1213\n",
      "====> Test set loss: 798.5279\n",
      "====> Epoch: 109 Average loss: 786.9454\n",
      "====> Test set loss: 798.6276\n",
      "====> Epoch: 110 Average loss: 786.6963\n",
      "====> Test set loss: 798.9906\n",
      "====> Epoch: 111 Average loss: 786.2510\n",
      "====> Test set loss: 797.2904\n",
      "====> Epoch: 112 Average loss: 786.2877\n",
      "====> Test set loss: 797.6992\n",
      "====> Epoch: 113 Average loss: 786.3691\n",
      "====> Test set loss: 798.4153\n",
      "====> Epoch: 114 Average loss: 785.9187\n",
      "====> Test set loss: 797.8935\n",
      "====> Epoch: 115 Average loss: 786.2567\n",
      "====> Test set loss: 797.9451\n",
      "====> Epoch: 116 Average loss: 785.8272\n",
      "====> Test set loss: 797.3873\n",
      "====> Epoch: 117 Average loss: 786.0625\n",
      "====> Test set loss: 796.6982\n",
      "====> Epoch: 118 Average loss: 785.5675\n",
      "====> Test set loss: 797.0160\n",
      "====> Epoch: 119 Average loss: 785.2698\n"
     ]
    },
    {
     "name": "stdout",
     "output_type": "stream",
     "text": [
      "====> Test set loss: 797.5992\n",
      "====> Epoch: 120 Average loss: 785.3688\n",
      "====> Test set loss: 798.2648\n",
      "====> Epoch: 121 Average loss: 785.0113\n",
      "====> Test set loss: 796.8887\n",
      "====> Epoch: 122 Average loss: 785.3412\n",
      "====> Test set loss: 797.0159\n",
      "====> Epoch: 123 Average loss: 785.4243\n",
      "====> Test set loss: 798.9056\n",
      "====> Epoch: 124 Average loss: 784.9404\n",
      "====> Test set loss: 798.4592\n",
      "====> Epoch: 125 Average loss: 784.5412\n",
      "====> Test set loss: 798.3335\n",
      "====> Epoch: 126 Average loss: 784.4241\n",
      "====> Test set loss: 797.3208\n",
      "====> Epoch: 127 Average loss: 784.6552\n",
      "====> Test set loss: 797.3448\n",
      "====> Epoch: 128 Average loss: 784.6793\n",
      "====> Test set loss: 796.3907\n",
      "====> Epoch: 129 Average loss: 784.2438\n",
      "====> Test set loss: 797.2036\n",
      "====> Epoch: 130 Average loss: 784.4245\n",
      "====> Test set loss: 798.3585\n",
      "====> Epoch: 131 Average loss: 784.3349\n",
      "====> Test set loss: 795.9591\n",
      "====> Epoch: 132 Average loss: 783.8246\n",
      "====> Test set loss: 796.5787\n",
      "====> Epoch: 133 Average loss: 783.7961\n",
      "====> Test set loss: 797.1942\n",
      "====> Epoch: 134 Average loss: 783.5497\n",
      "====> Test set loss: 797.1686\n",
      "====> Epoch: 135 Average loss: 783.5629\n",
      "====> Test set loss: 798.4408\n",
      "====> Epoch: 136 Average loss: 783.8210\n",
      "====> Test set loss: 798.0084\n",
      "====> Epoch: 137 Average loss: 783.7631\n",
      "====> Test set loss: 796.4104\n",
      "====> Epoch: 138 Average loss: 783.4142\n",
      "====> Test set loss: 796.7036\n",
      "====> Epoch: 139 Average loss: 783.5998\n",
      "====> Test set loss: 796.6497\n",
      "====> Epoch: 140 Average loss: 783.3508\n",
      "====> Test set loss: 796.7502\n",
      "====> Epoch: 141 Average loss: 783.2647\n",
      "====> Test set loss: 796.3809\n",
      "====> Epoch: 142 Average loss: 783.0407\n",
      "====> Test set loss: 797.3242\n",
      "====> Epoch: 143 Average loss: 783.1778\n",
      "====> Test set loss: 797.2306\n",
      "====> Epoch: 144 Average loss: 783.1191\n",
      "====> Test set loss: 795.9550\n",
      "====> Epoch: 145 Average loss: 782.7104\n",
      "====> Test set loss: 796.7922\n",
      "====> Epoch: 146 Average loss: 782.5780\n",
      "====> Test set loss: 796.3067\n",
      "====> Epoch: 147 Average loss: 782.6939\n",
      "====> Test set loss: 795.5575\n",
      "====> Epoch: 148 Average loss: 782.6251\n",
      "====> Test set loss: 795.6711\n",
      "====> Epoch: 149 Average loss: 782.4775\n",
      "====> Test set loss: 796.1569\n",
      "====> Epoch: 150 Average loss: 782.5496\n",
      "====> Test set loss: 796.0731\n",
      "====> Epoch: 151 Average loss: 782.5163\n",
      "====> Test set loss: 796.8983\n",
      "====> Epoch: 152 Average loss: 782.5455\n",
      "====> Test set loss: 798.3880\n",
      "====> Epoch: 153 Average loss: 782.1746\n",
      "====> Test set loss: 796.7633\n",
      "====> Epoch: 154 Average loss: 782.0023\n",
      "====> Test set loss: 796.4373\n",
      "====> Epoch: 155 Average loss: 782.0289\n",
      "====> Test set loss: 795.3713\n",
      "====> Epoch: 156 Average loss: 782.0060\n",
      "====> Test set loss: 795.8616\n",
      "====> Epoch: 157 Average loss: 781.6570\n",
      "====> Test set loss: 796.6759\n",
      "====> Epoch: 158 Average loss: 781.7269\n",
      "====> Test set loss: 796.0395\n",
      "====> Epoch: 159 Average loss: 781.5833\n",
      "====> Test set loss: 795.7897\n",
      "====> Epoch: 160 Average loss: 781.5213\n",
      "====> Test set loss: 795.8033\n",
      "====> Epoch: 161 Average loss: 781.1064\n",
      "====> Test set loss: 796.9461\n",
      "====> Epoch: 162 Average loss: 780.9083\n",
      "====> Test set loss: 796.5546\n",
      "====> Epoch: 163 Average loss: 781.1288\n",
      "====> Test set loss: 796.3721\n",
      "====> Epoch: 164 Average loss: 781.5340\n",
      "====> Test set loss: 795.4505\n",
      "====> Epoch: 165 Average loss: 781.0106\n",
      "====> Test set loss: 794.9607\n",
      "====> Epoch: 166 Average loss: 781.6699\n",
      "====> Test set loss: 794.8978\n",
      "====> Epoch: 167 Average loss: 781.3151\n",
      "====> Test set loss: 794.6752\n",
      "====> Epoch: 168 Average loss: 781.1534\n",
      "====> Test set loss: 795.6150\n",
      "====> Epoch: 169 Average loss: 781.0857\n",
      "====> Test set loss: 795.4705\n",
      "====> Epoch: 170 Average loss: 781.0002\n",
      "====> Test set loss: 794.7871\n",
      "====> Epoch: 171 Average loss: 780.9153\n",
      "====> Test set loss: 794.4033\n",
      "====> Epoch: 172 Average loss: 780.4155\n",
      "====> Test set loss: 794.8229\n",
      "====> Epoch: 173 Average loss: 780.6916\n",
      "====> Test set loss: 794.4808\n",
      "====> Epoch: 174 Average loss: 780.8588\n",
      "====> Test set loss: 795.1648\n",
      "====> Epoch: 175 Average loss: 780.6163\n",
      "====> Test set loss: 796.2872\n",
      "====> Epoch: 176 Average loss: 780.6502\n",
      "====> Test set loss: 795.9385\n",
      "====> Epoch: 177 Average loss: 780.2665\n",
      "====> Test set loss: 795.0775\n",
      "====> Epoch: 178 Average loss: 779.7974\n",
      "====> Test set loss: 795.7452\n",
      "====> Epoch: 179 Average loss: 780.5746\n",
      "====> Test set loss: 793.6366\n",
      "====> Epoch: 180 Average loss: 780.2143\n",
      "====> Test set loss: 796.2530\n",
      "====> Epoch: 181 Average loss: 780.1694\n",
      "====> Test set loss: 795.3498\n",
      "====> Epoch: 182 Average loss: 780.1666\n",
      "====> Test set loss: 795.1241\n",
      "====> Epoch: 183 Average loss: 780.2807\n",
      "====> Test set loss: 796.7900\n",
      "====> Epoch: 184 Average loss: 780.0482\n",
      "====> Test set loss: 795.5752\n",
      "====> Epoch: 185 Average loss: 780.0468\n",
      "====> Test set loss: 795.7641\n",
      "====> Epoch: 186 Average loss: 779.7403\n",
      "====> Test set loss: 795.7474\n",
      "====> Epoch: 187 Average loss: 779.9492\n",
      "====> Test set loss: 794.9327\n",
      "====> Epoch: 188 Average loss: 779.6945\n",
      "====> Test set loss: 796.4903\n",
      "====> Epoch: 189 Average loss: 780.0075\n",
      "====> Test set loss: 795.2438\n",
      "====> Epoch: 190 Average loss: 779.7735\n",
      "====> Test set loss: 795.0433\n",
      "====> Epoch: 191 Average loss: 779.4818\n",
      "====> Test set loss: 795.2665\n",
      "====> Epoch: 192 Average loss: 779.9638\n",
      "====> Test set loss: 796.3515\n",
      "====> Epoch: 193 Average loss: 779.5726\n",
      "====> Test set loss: 796.3178\n",
      "====> Epoch: 194 Average loss: 779.3669\n",
      "====> Test set loss: 796.0278\n",
      "====> Epoch: 195 Average loss: 779.5691\n",
      "====> Test set loss: 796.1189\n",
      "====> Epoch: 196 Average loss: 779.8234\n",
      "====> Test set loss: 795.5228\n",
      "====> Epoch: 197 Average loss: 779.4974\n",
      "====> Test set loss: 795.0047\n",
      "====> Epoch: 198 Average loss: 779.4361\n",
      "====> Test set loss: 795.1366\n",
      "====> Epoch: 199 Average loss: 778.9597\n",
      "====> Test set loss: 794.6415\n",
      "====> Epoch: 200 Average loss: 779.3778\n",
      "====> Test set loss: 796.8870\n"
     ]
    }
   ],
   "source": [
    "\n",
    "train_losses = []\n",
    "test_losses = []\n",
    "for epoch in range(1, epochs + 1):\n",
    "    train_loss = train(epoch)\n",
    "    test_loss = test(epoch)\n",
    "    train_losses.append(train_loss)\n",
    "    test_losses.append(test_loss)\n",
    "    with torch.no_grad():\n",
    "        if(epoch > epochs - 10):\n",
    "            sample = torch.randn(64, l_d).to(device)\n",
    "            sample = model.decode(sample).cpu()\n",
    "            save_image(sample.view(64, 1, 28, 28),\n",
    "                       'results/sample_' + str(epoch) + '.png')\n"
   ]
  },
  {
   "cell_type": "code",
   "execution_count": 105,
   "metadata": {},
   "outputs": [
    {
     "data": {
      "image/png": "[encoded data removed]",
      "text/plain": [
       "<Figure size 432x288 with 1 Axes>"
      ]
     },
     "metadata": {},
     "output_type": "display_data"
    }
   ],
   "source": [
    "plt.plot(np.array(train_losses),'r')\n",
    "plt.show()"
   ]
  },
  {
   "cell_type": "code",
   "execution_count": 106,
   "metadata": {},
   "outputs": [
    {
     "data": {
      "image/png": "[encoded data removed]",
      "text/plain": [
       "<Figure size 432x288 with 1 Axes>"
      ]
     },
     "metadata": {},
     "output_type": "display_data"
    }
   ],
   "source": [
    "plt.plot(np.array(test_losses),'b')\n",
    "plt.show()"
   ]
  },
  {
   "cell_type": "code",
   "execution_count": null,
   "metadata": {
    "collapsed": true
   },
   "outputs": [],
   "source": []
  }
 ],
 "metadata": {
  "kernelspec": {
   "display_name": "Python 3",
   "language": "python",
   "name": "python3"
  },
  "language_info": {
   "codemirror_mode": {
    "name": "ipython",
    "version": 3
   },
   "file_extension": ".py",
   "mimetype": "text/x-python",
   "name": "python",
   "nbconvert_exporter": "python",
   "pygments_lexer": "ipython3",
   "version": "3.6.3"
  }
 },
 "nbformat": 4,
 "nbformat_minor": 2
}
