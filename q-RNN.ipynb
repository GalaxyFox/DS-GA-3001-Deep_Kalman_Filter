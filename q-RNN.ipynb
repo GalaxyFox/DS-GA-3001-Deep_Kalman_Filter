{
 "cells": [
  {
   "cell_type": "code",
   "execution_count": 1,
   "metadata": {},
   "outputs": [
    {
     "data": {
      "text/plain": [
       "<torch._C.Generator at 0x1f7a393e4d0>"
      ]
     },
     "execution_count": 1,
     "metadata": {},
     "output_type": "execute_result"
    }
   ],
   "source": [
    "from __future__ import print_function\n",
    "import argparse\n",
    "import torch\n",
    "import torch.utils.data\n",
    "from torch import nn, optim\n",
    "from torch.nn import functional as F\n",
    "from torchvision import datasets, transforms\n",
    "from torchvision.utils import save_image\n",
    "import numpy as np\n",
    "\n",
    "\"\"\"\n",
    "parser = argparse.ArgumentParser(description='VAE MNIST Example')\n",
    "parser.add_argument('--batch-size', type=int, default=128, metavar='N',\n",
    "                    help='input batch size for training (default: 128)')\n",
    "parser.add_argument('--epochs', type=int, default=10, metavar='N',\n",
    "                    help='number of epochs to train (default: 10)')\n",
    "parser.add_argument('--no-cuda', action='store_true', default=False,\n",
    "                    help='enables CUDA training')\n",
    "parser.add_argument('--seed', type=int, default=1, metavar='S',\n",
    "                    help='random seed (default: 1)')\n",
    "parser.add_argument('--log-interval', type=int, default=10, metavar='N',\n",
    "                    help='how many batches to wait before logging training status')\n",
    "args = parser.parse_args()\n",
    "args.cuda = not args.no_cuda and torch.cuda.is_available()\n",
    "\"\"\"\n",
    "batch_size = 128\n",
    "seed = 1\n",
    "epochs = 200\n",
    "cuda = True\n",
    "log_interval = 10\n",
    "h_d = 512\n",
    "l_d = 32\n",
    "u_d = 1\n",
    "\n",
    "\n",
    "\n",
    "torch.manual_seed(seed)"
   ]
  },
  {
   "cell_type": "markdown",
   "metadata": {},
   "source": [
    "### Preparing for the dataset"
   ]
  },
  {
   "cell_type": "code",
   "execution_count": 2,
   "metadata": {
    "collapsed": true
   },
   "outputs": [],
   "source": [
    "#hmnist dataset\n",
    "import healing_mnist_indep"
   ]
  },
  {
   "cell_type": "code",
   "execution_count": 15,
   "metadata": {
    "collapsed": true
   },
   "outputs": [],
   "source": [
    "hmnist = healing_mnist_indep.HealingMNIST(seq_len=5, # 5 rotations of each digit\n",
    "                                          square_count=0, # 3 out of 5 images have a square added to them\n",
    "                                          square_size=5, # the square is 5x5\n",
    "                                          noise_ratio=0.10, # on average, 20% of the image is eaten by noise,\n",
    "                                          digits=range(10), # only include this digits\n",
    "                                          test = False\n",
    "                                         )"
   ]
  },
  {
   "cell_type": "code",
   "execution_count": 16,
   "metadata": {},
   "outputs": [
    {
     "name": "stdout",
     "output_type": "stream",
     "text": [
      "(60000, 5, 28, 28) (60000, 5, 28, 28)\n",
      "(60000, 5)\n",
      "(10000, 5, 28, 28) (10000, 5, 28, 28)\n",
      "(10000, 5)\n"
     ]
    }
   ],
   "source": [
    "print(hmnist.train_images.shape,hmnist.train_targets.shape)\n",
    "print(hmnist.train_rotations.shape)\n",
    "print(hmnist.test_images.shape,hmnist.test_targets.shape)\n",
    "print(hmnist.test_rotations.shape)"
   ]
  },
  {
   "cell_type": "code",
   "execution_count": 17,
   "metadata": {},
   "outputs": [
    {
     "data": {
      "image/png": "[encoded data removed]",
      "text/plain": [
       "<Figure size 1080x576 with 5 Axes>"
      ]
     },
     "metadata": {},
     "output_type": "display_data"
    }
   ],
   "source": [
    "import matplotlib.pyplot as plt\n",
    "%matplotlib inline\n",
    "case = 4\n",
    "fig = plt.figure(figsize=(15,8))\n",
    "for i, image in enumerate(hmnist.test_images[case]):\n",
    "    fig.add_subplot(1, 6, i+1)\n",
    "    plt.imshow(image,cmap='gray')\n",
    "    "
   ]
  },
  {
   "cell_type": "code",
   "execution_count": 18,
   "metadata": {},
   "outputs": [
    {
     "data": {
      "image/png": "[encoded data removed]",
      "text/plain": [
       "<Figure size 1080x576 with 5 Axes>"
      ]
     },
     "metadata": {},
     "output_type": "display_data"
    }
   ],
   "source": [
    "fig = plt.figure(figsize=(15,8))\n",
    "for i, image in enumerate(hmnist.test_targets[case]):\n",
    "    fig.add_subplot(1, 6, i+1)\n",
    "    plt.imshow(image,cmap='gray')"
   ]
  },
  {
   "cell_type": "code",
   "execution_count": 19,
   "metadata": {},
   "outputs": [
    {
     "name": "stdout",
     "output_type": "stream",
     "text": [
      "[  2.42973116 -51.04980853  88.38982625 -44.562548   -22.72210947]\n"
     ]
    }
   ],
   "source": [
    "print(hmnist.test_rotations[case])"
   ]
  },
  {
   "cell_type": "markdown",
   "metadata": {},
   "source": [
    "### Adjust the data shape\n",
    "this part should be different for different model, the q-RNN model does not igorned the sequencial dependency within the dataset, so we don't need to flat the dataset. So that the dataset should be that given a sequence of noisy image $\\{p_i\\}$ and a sequences of action $\\{u_i\\}$, the target should be the image of next timestep given action $u_n$"
   ]
  },
  {
   "cell_type": "code",
   "execution_count": 20,
   "metadata": {},
   "outputs": [
    {
     "name": "stdout",
     "output_type": "stream",
     "text": [
      "(60000, 5, 28, 28) (60000, 5) (60000, 5, 28, 28)\n",
      "(10000, 5, 28, 28) (10000, 5) (10000, 5, 28, 28)\n"
     ]
    }
   ],
   "source": [
    "train_X = hmnist.train_images\n",
    "train_u = hmnist.train_rotations\n",
    "train_Y = hmnist.train_targets\n",
    "test_X = hmnist.test_images\n",
    "test_u = hmnist.test_rotations\n",
    "test_Y = hmnist.test_targets\n",
    "print(train_X.shape,train_u.shape,train_Y.shape)\n",
    "print(test_X.shape,test_u.shape,test_Y.shape)"
   ]
  },
  {
   "cell_type": "code",
   "execution_count": 21,
   "metadata": {},
   "outputs": [
    {
     "name": "stdout",
     "output_type": "stream",
     "text": [
      "(60000, 5, 28, 28) (60000, 5) (60000, 5, 28, 28)\n",
      "(10000, 5, 28, 28) (10000, 5) (10000, 5, 28, 28)\n"
     ]
    }
   ],
   "source": [
    "#no adjustment needed\n",
    "\n",
    "#train_Y = train_Y[:,4,:,:]\n",
    "#test_Y = test_Y[:,4,:,:]\n",
    "\n",
    "print(train_X.shape,train_u.shape,train_Y.shape)\n",
    "print(test_X.shape,test_u.shape,test_Y.shape)"
   ]
  },
  {
   "cell_type": "code",
   "execution_count": 22,
   "metadata": {},
   "outputs": [
    {
     "data": {
      "text/plain": [
       "\"\\n\\ntrain_loader = torch.utils.data.DataLoader(\\n    datasets.MNIST('./data', train=True, download=True,\\n                   transform=transforms.ToTensor()),\\n    batch_size=batch_size, shuffle=True, **kwargs)\\n\\n\\n\\ntest_loader = torch.utils.data.DataLoader(\\n    datasets.MNIST('./data', train=False, transform=transforms.ToTensor()),\\n    batch_size=batch_size, shuffle=True, **kwargs)\\n\\n\""
      ]
     },
     "execution_count": 22,
     "metadata": {},
     "output_type": "execute_result"
    }
   ],
   "source": [
    "device = torch.device(\"cuda\" if cuda else \"cpu\")\n",
    "\n",
    "kwargs = {'num_workers': 0, 'pin_memory': True} if cuda else {}\n",
    "\n",
    "\"\"\"\n",
    "\n",
    "train_loader = torch.utils.data.DataLoader(\n",
    "    datasets.MNIST('./data', train=True, download=True,\n",
    "                   transform=transforms.ToTensor()),\n",
    "    batch_size=batch_size, shuffle=True, **kwargs)\n",
    "\n",
    "\n",
    "\n",
    "test_loader = torch.utils.data.DataLoader(\n",
    "    datasets.MNIST('./data', train=False, transform=transforms.ToTensor()),\n",
    "    batch_size=batch_size, shuffle=True, **kwargs)\n",
    "\n",
    "\"\"\"\n",
    "\n"
   ]
  },
  {
   "cell_type": "markdown",
   "metadata": {},
   "source": [
    "### Dataset object"
   ]
  },
  {
   "cell_type": "code",
   "execution_count": 23,
   "metadata": {
    "collapsed": true
   },
   "outputs": [],
   "source": [
    "class HMNISTDataSet():\n",
    "    def __init__(self, train_img, train_act, train_tar, test_img, test_act, test_tar, test = False, transform=None):\n",
    "        self.test = test\n",
    "        self.transform = transform\n",
    "\n",
    "        if (self.test == False):\n",
    "          self.images = train_img\n",
    "          self.targets = train_tar\n",
    "          self.rotations = train_act\n",
    "\n",
    "        else:      \n",
    "          self.images = test_img\n",
    "          self.targets = test_tar\n",
    "          self.rotations = test_act\n",
    "\n",
    "    def __len__(self):\n",
    "        return len(self.images)\n",
    "    \n",
    "    def __getitem__(self, index):\n",
    "        if self.transform is not None:\n",
    "            img = torch.zeros((len(self.images[index]),1,28,28))\n",
    "            for i in range(len(self.images[index])):\n",
    "                img[i] = self.transform(self.images[index][i].reshape(28,28,1))\n",
    "            tar = torch.zeros((len(self.targets[index]),1,28,28))\n",
    "            for i in range(len(self.targets[index])):\n",
    "                tar[i] = self.transform(self.targets[index][i].reshape(28,28,1))\n",
    "                \n",
    "            rot = torch.tensor(self.rotations[index])\n",
    "        return img, rot, tar"
   ]
  },
  {
   "cell_type": "code",
   "execution_count": 24,
   "metadata": {},
   "outputs": [],
   "source": [
    "train_set = HMNISTDataSet(train_X, train_u, train_Y, test_X, test_u, test_Y, test = False, transform = transforms.ToTensor())\n",
    "test_set = HMNISTDataSet(train_X, train_u, train_Y, test_X, test_u, test_Y, test = True, transform = transforms.ToTensor())"
   ]
  },
  {
   "cell_type": "code",
   "execution_count": 25,
   "metadata": {},
   "outputs": [
    {
     "data": {
      "text/plain": [
       "torch.Size([5, 1, 28, 28])"
      ]
     },
     "execution_count": 25,
     "metadata": {},
     "output_type": "execute_result"
    }
   ],
   "source": [
    "a,b,c = train_set.__getitem__(3)\n",
    "c.shape\n"
   ]
  },
  {
   "cell_type": "markdown",
   "metadata": {},
   "source": [
    "### Create DataLoader"
   ]
  },
  {
   "cell_type": "code",
   "execution_count": 26,
   "metadata": {
    "collapsed": true
   },
   "outputs": [],
   "source": [
    "train_loader = torch.utils.data.DataLoader(train_set, batch_size=batch_size, shuffle=True, **kwargs)\n",
    "test_loader = torch.utils.data.DataLoader(test_set, batch_size=batch_size, shuffle=True, **kwargs)"
   ]
  },
  {
   "cell_type": "markdown",
   "metadata": {},
   "source": [
    "### Model definition"
   ]
  },
  {
   "cell_type": "code",
   "execution_count": 27,
   "metadata": {
    "collapsed": true
   },
   "outputs": [],
   "source": [
    "class VAE(nn.Module):\n",
    "    def __init__(self):\n",
    "        super(VAE, self).__init__()\n",
    "\n",
    "        self.fc1 = nn.Linear(784, h_d)\n",
    "        self.fc2 = nn.Linear(h_d,128)\n",
    "        self.fc21 = nn.Linear(128, l_d)\n",
    "        self.fc22 = nn.Linear(128, l_d)\n",
    "        \n",
    "        #transition layer\n",
    "        input_dim = l_d + u_d\n",
    "        self.rnn_mu = nn.RNN(input_size=input_dim,hidden_size=l_d,batch_first=True)\n",
    "        self.rnn_sigma = nn.RNN(input_size=input_dim,hidden_size=l_d,batch_first=True)\n",
    "        \n",
    "        \n",
    "        self.fc3 = nn.Linear(l_d, 128)\n",
    "        self.fc4 = nn.Linear(128,h_d)\n",
    "        self.fc5 = nn.Linear(h_d, 784)\n",
    "\n",
    "    def encode(self, x):\n",
    "        h1 = F.relu(self.fc1(x))\n",
    "        h2 = F.relu(self.fc2(h1))\n",
    "        return self.fc21(h2), self.fc22(h2)\n",
    "\n",
    "    def reparameterize1(self, mu, logvar):\n",
    "        std = torch.exp(0.5*logvar)\n",
    "        eps = torch.randn_like(std)\n",
    "        return mu + eps*std\n",
    "    \n",
    "    def transition(self, z, u):\n",
    "        rnn_input = torch.cat((z,u),dim=2)\n",
    "        mu2,_ = self.rnn_mu(rnn_input)\n",
    "        logvar2,_ = self.rnn_sigma(rnn_input)\n",
    "        return mu2,logvar2\n",
    "    \n",
    "    def reparameterize2(self, mu, logvar):\n",
    "        std = torch.exp(0.5*logvar)\n",
    "        eps = torch.randn_like(std)\n",
    "        return mu + eps*std\n",
    "\n",
    "    def decode(self, z):\n",
    "        h3 = F.relu(self.fc3(z))\n",
    "        h4 = F.relu(self.fc4(h3))\n",
    "        return torch.sigmoid(self.fc5(h4))\n",
    "\n",
    "    def forward(self, x, u):\n",
    "        mu1, logvar1 = self.encode(x.view(-1, 784))\n",
    "        z1 = self.reparameterize1(mu1, logvar1)\n",
    "        z1 = z1.reshape(-1,5,32)\n",
    "        u = u.float()\n",
    "        mu2, logvar2 = self.transition(z1,u.reshape(-1,5,1))\n",
    "        z2 = self.reparameterize2(mu2, logvar2)\n",
    "        \n",
    "        return self.decode(z2), mu2, logvar2"
   ]
  },
  {
   "cell_type": "code",
   "execution_count": 28,
   "metadata": {
    "collapsed": true
   },
   "outputs": [],
   "source": [
    "model = VAE().to(device)\n",
    "#adam optimizer\n",
    "optimizer = optim.Adam(model.parameters(), lr=1e-3)"
   ]
  },
  {
   "cell_type": "code",
   "execution_count": 29,
   "metadata": {
    "collapsed": true
   },
   "outputs": [],
   "source": [
    "# Reconstruction + KL divergence losses summed over all elements and batch\n",
    "def loss_function(recon_x, x, mu, logvar):\n",
    "    BCE = F.binary_cross_entropy(recon_x, x.view(-1, 784), reduction='sum')\n",
    "\n",
    "    # see Appendix B from VAE paper:\n",
    "    # Kingma and Welling. Auto-Encoding Variational Bayes. ICLR, 2014\n",
    "    # https://arxiv.org/abs/1312.6114\n",
    "    # 0.5 * sum(1 + log(sigma^2) - mu^2 - sigma^2)\n",
    "    KLD = -0.5 * torch.sum(1 + logvar - mu.pow(2) - logvar.exp())\n",
    "\n",
    "    return BCE + KLD"
   ]
  },
  {
   "cell_type": "markdown",
   "metadata": {},
   "source": [
    "### Define training and testing algorithm"
   ]
  },
  {
   "cell_type": "code",
   "execution_count": 30,
   "metadata": {
    "collapsed": true
   },
   "outputs": [],
   "source": [
    "def train(epoch):\n",
    "    model.train()\n",
    "    train_loss = 0\n",
    "    for batch_idx, (img, action, target) in enumerate(train_loader):\n",
    "        img = img.to(device)\n",
    "        action = action.to(device)\n",
    "        target = target.to(device)\n",
    "        optimizer.zero_grad()\n",
    "        recon_batch, mu, logvar = model(img,action)\n",
    "        loss = loss_function(recon_batch, target, mu, logvar)\n",
    "        loss.backward()\n",
    "        train_loss += loss.item()\n",
    "        optimizer.step()\n",
    "        #if batch_idx % log_interval == 0:\n",
    "         #   print('Train Epoch: {} [{}/{} ({:.0f}%)]\\tLoss: {:.6f}'.format(\n",
    "          #      epoch, batch_idx * len(img), len(train_loader.dataset),\n",
    "           #     100. * batch_idx / len(train_loader),\n",
    "            #    loss.item() / len(img)))\n",
    "\n",
    "    print('====> Epoch: {} Average loss: {:.4f}'.format(\n",
    "          epoch, train_loss / len(train_loader.dataset)))\n",
    "    return train_loss"
   ]
  },
  {
   "cell_type": "code",
   "execution_count": 35,
   "metadata": {
    "collapsed": true
   },
   "outputs": [],
   "source": [
    "def test(epoch):\n",
    "    model.eval()\n",
    "    test_loss = 0\n",
    "    with torch.no_grad():\n",
    "        for i, (img, action, target) in enumerate(test_loader):\n",
    "            img = img.to(device)\n",
    "            action = action.to(device)\n",
    "            target = target.to(device)\n",
    "            recon_batch, mu, logvar = model(img, action)\n",
    "            test_loss += loss_function(recon_batch, target, mu, logvar).item()\n",
    "            if(epoch > epochs - 10):\n",
    "                if i == 0:\n",
    "                    n = np.random.randint(0,batch_size)\n",
    "                    comparison = torch.cat([target[n],\n",
    "                                          recon_batch.view(batch_size, 5, 1, 28, 28)[n]],dim=0)\n",
    "                    save_image(comparison.cpu(),\n",
    "                             'results_rnn_old_test/reconstruction_' + str(epoch) + '.png', nrow=5)\n",
    "\n",
    "    test_loss /= len(test_loader.dataset)\n",
    "    print('====> Test set loss: {:.4f}'.format(test_loss))\n",
    "    return test_loss"
   ]
  },
  {
   "cell_type": "markdown",
   "metadata": {},
   "source": [
    "### Run training"
   ]
  },
  {
   "cell_type": "code",
   "execution_count": 32,
   "metadata": {
    "scrolled": true
   },
   "outputs": [
    {
     "name": "stdout",
     "output_type": "stream",
     "text": [
      "====> Epoch: 1 Average loss: 1104.1885\n",
      "====> Test set loss: 1028.5254\n",
      "====> Epoch: 2 Average loss: 1021.2823\n",
      "====> Test set loss: 1012.1246\n",
      "====> Epoch: 3 Average loss: 985.0143\n",
      "====> Test set loss: 950.1792\n",
      "====> Epoch: 4 Average loss: 931.6177\n",
      "====> Test set loss: 912.2539\n",
      "====> Epoch: 5 Average loss: 902.8930\n",
      "====> Test set loss: 888.3585\n",
      "====> Epoch: 6 Average loss: 883.6829\n",
      "====> Test set loss: 872.7368\n",
      "====> Epoch: 7 Average loss: 869.5415\n",
      "====> Test set loss: 860.1476\n",
      "====> Epoch: 8 Average loss: 858.0272\n",
      "====> Test set loss: 850.8579\n",
      "====> Epoch: 9 Average loss: 849.7733\n",
      "====> Test set loss: 845.9712\n",
      "====> Epoch: 10 Average loss: 842.6983\n",
      "====> Test set loss: 839.8256\n",
      "====> Epoch: 11 Average loss: 837.6835\n",
      "====> Test set loss: 834.7268\n",
      "====> Epoch: 12 Average loss: 833.3835\n",
      "====> Test set loss: 830.6245\n",
      "====> Epoch: 13 Average loss: 829.4545\n",
      "====> Test set loss: 829.9037\n",
      "====> Epoch: 14 Average loss: 825.7699\n",
      "====> Test set loss: 825.3977\n",
      "====> Epoch: 15 Average loss: 823.2738\n",
      "====> Test set loss: 824.4147\n",
      "====> Epoch: 16 Average loss: 820.2934\n",
      "====> Test set loss: 820.7212\n",
      "====> Epoch: 17 Average loss: 817.8402\n",
      "====> Test set loss: 824.2249\n",
      "====> Epoch: 18 Average loss: 816.2462\n",
      "====> Test set loss: 815.4750\n",
      "====> Epoch: 19 Average loss: 813.6788\n",
      "====> Test set loss: 814.9669\n",
      "====> Epoch: 20 Average loss: 812.3570\n",
      "====> Test set loss: 813.4657\n",
      "====> Epoch: 21 Average loss: 810.1518\n",
      "====> Test set loss: 812.3762\n",
      "====> Epoch: 22 Average loss: 808.6927\n",
      "====> Test set loss: 811.6133\n",
      "====> Epoch: 23 Average loss: 806.9215\n",
      "====> Test set loss: 810.2841\n",
      "====> Epoch: 24 Average loss: 805.7723\n",
      "====> Test set loss: 810.2033\n",
      "====> Epoch: 25 Average loss: 804.5152\n",
      "====> Test set loss: 808.6350\n",
      "====> Epoch: 26 Average loss: 803.0132\n",
      "====> Test set loss: 806.5067\n",
      "====> Epoch: 27 Average loss: 801.4027\n",
      "====> Test set loss: 805.9970\n",
      "====> Epoch: 28 Average loss: 800.8757\n",
      "====> Test set loss: 806.0251\n",
      "====> Epoch: 29 Average loss: 799.0199\n",
      "====> Test set loss: 804.8713\n",
      "====> Epoch: 30 Average loss: 798.0568\n",
      "====> Test set loss: 802.2625\n",
      "====> Epoch: 31 Average loss: 796.8841\n",
      "====> Test set loss: 809.0026\n",
      "====> Epoch: 32 Average loss: 796.2655\n",
      "====> Test set loss: 803.3775\n",
      "====> Epoch: 33 Average loss: 795.3885\n",
      "====> Test set loss: 800.4510\n",
      "====> Epoch: 34 Average loss: 794.6611\n",
      "====> Test set loss: 800.6478\n",
      "====> Epoch: 35 Average loss: 793.6128\n",
      "====> Test set loss: 799.0220\n",
      "====> Epoch: 36 Average loss: 792.8310\n",
      "====> Test set loss: 799.6153\n",
      "====> Epoch: 37 Average loss: 792.7245\n",
      "====> Test set loss: 798.9220\n",
      "====> Epoch: 38 Average loss: 791.3229\n",
      "====> Test set loss: 799.4282\n",
      "====> Epoch: 39 Average loss: 790.9512\n",
      "====> Test set loss: 798.8116\n",
      "====> Epoch: 40 Average loss: 790.1116\n",
      "====> Test set loss: 798.6768\n",
      "====> Epoch: 41 Average loss: 789.1317\n",
      "====> Test set loss: 796.2938\n",
      "====> Epoch: 42 Average loss: 788.8732\n",
      "====> Test set loss: 795.2237\n",
      "====> Epoch: 43 Average loss: 787.8400\n",
      "====> Test set loss: 797.9460\n",
      "====> Epoch: 44 Average loss: 787.5516\n",
      "====> Test set loss: 795.7984\n",
      "====> Epoch: 45 Average loss: 786.9874\n",
      "====> Test set loss: 795.0875\n",
      "====> Epoch: 46 Average loss: 786.3932\n",
      "====> Test set loss: 798.4302\n",
      "====> Epoch: 47 Average loss: 786.5282\n",
      "====> Test set loss: 798.4094\n",
      "====> Epoch: 48 Average loss: 785.7149\n",
      "====> Test set loss: 794.3746\n",
      "====> Epoch: 49 Average loss: 785.3447\n",
      "====> Test set loss: 795.8230\n",
      "====> Epoch: 50 Average loss: 784.5086\n",
      "====> Test set loss: 796.6604\n",
      "====> Epoch: 51 Average loss: 784.0471\n",
      "====> Test set loss: 795.4600\n",
      "====> Epoch: 52 Average loss: 783.2770\n",
      "====> Test set loss: 796.9709\n",
      "====> Epoch: 53 Average loss: 783.2187\n",
      "====> Test set loss: 793.1835\n",
      "====> Epoch: 54 Average loss: 782.3874\n",
      "====> Test set loss: 792.3921\n",
      "====> Epoch: 55 Average loss: 782.3822\n",
      "====> Test set loss: 794.1296\n",
      "====> Epoch: 56 Average loss: 781.7710\n",
      "====> Test set loss: 796.6809\n",
      "====> Epoch: 57 Average loss: 781.6145\n",
      "====> Test set loss: 792.5815\n",
      "====> Epoch: 58 Average loss: 780.9437\n",
      "====> Test set loss: 794.3852\n",
      "====> Epoch: 59 Average loss: 780.5938\n",
      "====> Test set loss: 792.7072\n",
      "====> Epoch: 60 Average loss: 779.8324\n",
      "====> Test set loss: 791.3673\n",
      "====> Epoch: 61 Average loss: 779.4998\n",
      "====> Test set loss: 792.7551\n",
      "====> Epoch: 62 Average loss: 779.5949\n",
      "====> Test set loss: 792.1046\n",
      "====> Epoch: 63 Average loss: 778.8068\n",
      "====> Test set loss: 791.7383\n",
      "====> Epoch: 64 Average loss: 778.5985\n",
      "====> Test set loss: 790.1506\n",
      "====> Epoch: 65 Average loss: 778.4843\n",
      "====> Test set loss: 791.7357\n",
      "====> Epoch: 66 Average loss: 777.7311\n",
      "====> Test set loss: 793.5517\n",
      "====> Epoch: 67 Average loss: 777.4930\n",
      "====> Test set loss: 791.8177\n",
      "====> Epoch: 68 Average loss: 777.1238\n",
      "====> Test set loss: 790.2693\n",
      "====> Epoch: 69 Average loss: 776.4814\n",
      "====> Test set loss: 790.5852\n",
      "====> Epoch: 70 Average loss: 776.5091\n",
      "====> Test set loss: 789.6438\n",
      "====> Epoch: 71 Average loss: 776.5629\n",
      "====> Test set loss: 789.8628\n",
      "====> Epoch: 72 Average loss: 775.9519\n",
      "====> Test set loss: 789.5348\n",
      "====> Epoch: 73 Average loss: 775.4856\n",
      "====> Test set loss: 790.8083\n",
      "====> Epoch: 74 Average loss: 775.2380\n",
      "====> Test set loss: 789.0577\n",
      "====> Epoch: 75 Average loss: 774.7272\n",
      "====> Test set loss: 789.2937\n",
      "====> Epoch: 76 Average loss: 774.6037\n",
      "====> Test set loss: 788.9920\n",
      "====> Epoch: 77 Average loss: 774.6966\n",
      "====> Test set loss: 788.8309\n",
      "====> Epoch: 78 Average loss: 773.9765\n",
      "====> Test set loss: 788.4928\n",
      "====> Epoch: 79 Average loss: 774.0202\n",
      "====> Test set loss: 789.9050\n",
      "====> Epoch: 80 Average loss: 773.5218\n",
      "====> Test set loss: 789.5497\n",
      "====> Epoch: 81 Average loss: 773.1499\n",
      "====> Test set loss: 790.0188\n",
      "====> Epoch: 82 Average loss: 773.7161\n",
      "====> Test set loss: 788.8467\n",
      "====> Epoch: 83 Average loss: 773.1084\n",
      "====> Test set loss: 788.4244\n",
      "====> Epoch: 84 Average loss: 772.8393\n",
      "====> Test set loss: 788.9361\n",
      "====> Epoch: 85 Average loss: 772.3958\n",
      "====> Test set loss: 787.9731\n",
      "====> Epoch: 86 Average loss: 771.9362\n",
      "====> Test set loss: 788.8005\n",
      "====> Epoch: 87 Average loss: 772.0520\n",
      "====> Test set loss: 788.9817\n",
      "====> Epoch: 88 Average loss: 771.8009\n",
      "====> Test set loss: 788.3207\n",
      "====> Epoch: 89 Average loss: 771.0989\n",
      "====> Test set loss: 787.9522\n",
      "====> Epoch: 90 Average loss: 771.7695\n",
      "====> Test set loss: 788.1782\n",
      "====> Epoch: 91 Average loss: 771.1388\n",
      "====> Test set loss: 788.7647\n",
      "====> Epoch: 92 Average loss: 771.2564\n",
      "====> Test set loss: 788.0064\n",
      "====> Epoch: 93 Average loss: 770.1390\n",
      "====> Test set loss: 788.4685\n",
      "====> Epoch: 94 Average loss: 770.3865\n",
      "====> Test set loss: 789.2668\n",
      "====> Epoch: 95 Average loss: 770.0664\n",
      "====> Test set loss: 788.4725\n",
      "====> Epoch: 96 Average loss: 770.1293\n",
      "====> Test set loss: 789.8818\n",
      "====> Epoch: 97 Average loss: 770.0604\n",
      "====> Test set loss: 788.4494\n",
      "====> Epoch: 98 Average loss: 769.7966\n",
      "====> Test set loss: 788.7680\n",
      "====> Epoch: 99 Average loss: 769.8210\n",
      "====> Test set loss: 789.0159\n",
      "====> Epoch: 100 Average loss: 769.9113\n",
      "====> Test set loss: 787.4597\n",
      "====> Epoch: 101 Average loss: 769.4388\n",
      "====> Test set loss: 788.7163\n",
      "====> Epoch: 102 Average loss: 769.4744\n",
      "====> Test set loss: 789.3045\n",
      "====> Epoch: 103 Average loss: 768.8568\n",
      "====> Test set loss: 787.8442\n",
      "====> Epoch: 104 Average loss: 768.5160\n",
      "====> Test set loss: 788.9632\n",
      "====> Epoch: 105 Average loss: 768.5917\n",
      "====> Test set loss: 788.4752\n",
      "====> Epoch: 106 Average loss: 768.8521\n",
      "====> Test set loss: 787.3964\n",
      "====> Epoch: 107 Average loss: 767.9061\n",
      "====> Test set loss: 787.9448\n",
      "====> Epoch: 108 Average loss: 767.8784\n",
      "====> Test set loss: 787.5077\n",
      "====> Epoch: 109 Average loss: 767.8240\n",
      "====> Test set loss: 788.0295\n",
      "====> Epoch: 110 Average loss: 767.7854\n",
      "====> Test set loss: 787.3406\n",
      "====> Epoch: 111 Average loss: 767.4711\n",
      "====> Test set loss: 786.9106\n",
      "====> Epoch: 112 Average loss: 767.3890\n",
      "====> Test set loss: 787.0116\n",
      "====> Epoch: 113 Average loss: 767.3310\n",
      "====> Test set loss: 786.9828\n",
      "====> Epoch: 114 Average loss: 767.1686\n",
      "====> Test set loss: 786.9354\n",
      "====> Epoch: 115 Average loss: 766.7250\n",
      "====> Test set loss: 787.7300\n",
      "====> Epoch: 116 Average loss: 766.8404\n",
      "====> Test set loss: 787.6171\n",
      "====> Epoch: 117 Average loss: 767.0275\n",
      "====> Test set loss: 787.1935\n",
      "====> Epoch: 118 Average loss: 767.1103\n",
      "====> Test set loss: 788.5168\n"
     ]
    },
    {
     "name": "stdout",
     "output_type": "stream",
     "text": [
      "====> Epoch: 119 Average loss: 766.5901\n",
      "====> Test set loss: 787.3593\n",
      "====> Epoch: 120 Average loss: 766.1763\n",
      "====> Test set loss: 787.3212\n",
      "====> Epoch: 121 Average loss: 766.2079\n",
      "====> Test set loss: 787.8027\n",
      "====> Epoch: 122 Average loss: 766.3897\n",
      "====> Test set loss: 787.0106\n",
      "====> Epoch: 123 Average loss: 766.4188\n",
      "====> Test set loss: 788.3455\n",
      "====> Epoch: 124 Average loss: 766.0563\n",
      "====> Test set loss: 788.4233\n",
      "====> Epoch: 125 Average loss: 766.1097\n",
      "====> Test set loss: 786.1219\n",
      "====> Epoch: 126 Average loss: 765.1936\n",
      "====> Test set loss: 787.8603\n",
      "====> Epoch: 127 Average loss: 765.3518\n",
      "====> Test set loss: 786.4095\n",
      "====> Epoch: 128 Average loss: 765.5217\n",
      "====> Test set loss: 788.3692\n",
      "====> Epoch: 129 Average loss: 765.6059\n",
      "====> Test set loss: 790.3953\n",
      "====> Epoch: 130 Average loss: 764.9229\n",
      "====> Test set loss: 787.2030\n",
      "====> Epoch: 131 Average loss: 765.2562\n",
      "====> Test set loss: 788.0334\n",
      "====> Epoch: 132 Average loss: 765.2870\n",
      "====> Test set loss: 787.1225\n",
      "====> Epoch: 133 Average loss: 765.0387\n",
      "====> Test set loss: 786.4699\n",
      "====> Epoch: 134 Average loss: 764.8736\n",
      "====> Test set loss: 790.7688\n",
      "====> Epoch: 135 Average loss: 764.4757\n",
      "====> Test set loss: 787.2094\n",
      "====> Epoch: 136 Average loss: 765.2129\n",
      "====> Test set loss: 787.7835\n",
      "====> Epoch: 137 Average loss: 764.4182\n",
      "====> Test set loss: 788.1798\n",
      "====> Epoch: 138 Average loss: 764.5667\n",
      "====> Test set loss: 787.9682\n",
      "====> Epoch: 139 Average loss: 763.9385\n",
      "====> Test set loss: 787.0245\n",
      "====> Epoch: 140 Average loss: 764.4304\n",
      "====> Test set loss: 788.5875\n",
      "====> Epoch: 141 Average loss: 764.1695\n",
      "====> Test set loss: 787.0752\n",
      "====> Epoch: 142 Average loss: 763.6409\n",
      "====> Test set loss: 787.0499\n",
      "====> Epoch: 143 Average loss: 763.5988\n",
      "====> Test set loss: 789.7823\n",
      "====> Epoch: 144 Average loss: 763.9840\n",
      "====> Test set loss: 787.6193\n",
      "====> Epoch: 145 Average loss: 763.3060\n",
      "====> Test set loss: 788.6260\n",
      "====> Epoch: 146 Average loss: 763.2857\n",
      "====> Test set loss: 786.2682\n",
      "====> Epoch: 147 Average loss: 763.5276\n",
      "====> Test set loss: 788.7623\n",
      "====> Epoch: 148 Average loss: 763.5756\n",
      "====> Test set loss: 786.2627\n",
      "====> Epoch: 149 Average loss: 763.0820\n",
      "====> Test set loss: 790.8929\n",
      "====> Epoch: 150 Average loss: 763.1760\n",
      "====> Test set loss: 788.5521\n",
      "====> Epoch: 151 Average loss: 763.2186\n",
      "====> Test set loss: 788.0224\n",
      "====> Epoch: 152 Average loss: 763.2153\n",
      "====> Test set loss: 788.1043\n",
      "====> Epoch: 153 Average loss: 763.2491\n",
      "====> Test set loss: 789.1902\n",
      "====> Epoch: 154 Average loss: 762.7369\n",
      "====> Test set loss: 787.3404\n",
      "====> Epoch: 155 Average loss: 762.5596\n",
      "====> Test set loss: 788.8860\n",
      "====> Epoch: 156 Average loss: 762.5580\n",
      "====> Test set loss: 787.4916\n",
      "====> Epoch: 157 Average loss: 762.5792\n",
      "====> Test set loss: 790.6808\n",
      "====> Epoch: 158 Average loss: 762.1524\n",
      "====> Test set loss: 787.0477\n",
      "====> Epoch: 159 Average loss: 762.4840\n",
      "====> Test set loss: 787.8839\n",
      "====> Epoch: 160 Average loss: 762.6783\n",
      "====> Test set loss: 787.0559\n",
      "====> Epoch: 161 Average loss: 762.7338\n",
      "====> Test set loss: 786.8508\n",
      "====> Epoch: 162 Average loss: 762.4005\n",
      "====> Test set loss: 789.2056\n",
      "====> Epoch: 163 Average loss: 762.0211\n",
      "====> Test set loss: 789.1512\n",
      "====> Epoch: 164 Average loss: 762.6368\n",
      "====> Test set loss: 788.3593\n",
      "====> Epoch: 165 Average loss: 761.4822\n",
      "====> Test set loss: 788.6807\n",
      "====> Epoch: 166 Average loss: 761.5089\n",
      "====> Test set loss: 787.7996\n",
      "====> Epoch: 167 Average loss: 761.8306\n",
      "====> Test set loss: 788.8042\n",
      "====> Epoch: 168 Average loss: 761.1777\n",
      "====> Test set loss: 788.1390\n",
      "====> Epoch: 169 Average loss: 761.6455\n",
      "====> Test set loss: 788.5294\n",
      "====> Epoch: 170 Average loss: 761.4360\n",
      "====> Test set loss: 788.8961\n",
      "====> Epoch: 171 Average loss: 761.1419\n",
      "====> Test set loss: 787.5850\n",
      "====> Epoch: 172 Average loss: 761.5367\n",
      "====> Test set loss: 788.1741\n",
      "====> Epoch: 173 Average loss: 761.8061\n",
      "====> Test set loss: 789.3751\n",
      "====> Epoch: 174 Average loss: 761.0338\n",
      "====> Test set loss: 788.0915\n",
      "====> Epoch: 175 Average loss: 760.5812\n",
      "====> Test set loss: 787.6384\n",
      "====> Epoch: 176 Average loss: 760.6051\n",
      "====> Test set loss: 788.5961\n",
      "====> Epoch: 177 Average loss: 761.0883\n",
      "====> Test set loss: 788.3094\n",
      "====> Epoch: 178 Average loss: 760.7174\n",
      "====> Test set loss: 789.8100\n",
      "====> Epoch: 179 Average loss: 761.0341\n",
      "====> Test set loss: 788.5618\n",
      "====> Epoch: 180 Average loss: 760.8429\n",
      "====> Test set loss: 786.5913\n",
      "====> Epoch: 181 Average loss: 760.7102\n",
      "====> Test set loss: 789.6083\n",
      "====> Epoch: 182 Average loss: 760.8139\n",
      "====> Test set loss: 788.2833\n",
      "====> Epoch: 183 Average loss: 760.1741\n",
      "====> Test set loss: 789.2183\n",
      "====> Epoch: 184 Average loss: 760.6551\n",
      "====> Test set loss: 790.7825\n",
      "====> Epoch: 185 Average loss: 760.7260\n",
      "====> Test set loss: 788.6192\n",
      "====> Epoch: 186 Average loss: 760.8859\n",
      "====> Test set loss: 789.9160\n",
      "====> Epoch: 187 Average loss: 759.8287\n",
      "====> Test set loss: 789.0333\n",
      "====> Epoch: 188 Average loss: 760.4745\n",
      "====> Test set loss: 788.0783\n",
      "====> Epoch: 189 Average loss: 759.5992\n",
      "====> Test set loss: 790.3047\n",
      "====> Epoch: 190 Average loss: 760.6005\n",
      "====> Test set loss: 788.6865\n",
      "====> Epoch: 191 Average loss: 760.0647\n",
      "====> Test set loss: 787.2943\n",
      "====> Epoch: 192 Average loss: 760.7268\n",
      "====> Test set loss: 789.0756\n",
      "====> Epoch: 193 Average loss: 759.4906\n",
      "====> Test set loss: 787.2045\n",
      "====> Epoch: 194 Average loss: 759.5491\n",
      "====> Test set loss: 789.8192\n",
      "====> Epoch: 195 Average loss: 760.0154\n",
      "====> Test set loss: 787.8325\n",
      "====> Epoch: 196 Average loss: 759.2602\n",
      "====> Test set loss: 788.6923\n",
      "====> Epoch: 197 Average loss: 759.2069\n",
      "====> Test set loss: 789.2769\n",
      "====> Epoch: 198 Average loss: 759.4555\n",
      "====> Test set loss: 789.3667\n",
      "====> Epoch: 199 Average loss: 759.2574\n",
      "====> Test set loss: 788.9308\n",
      "====> Epoch: 200 Average loss: 759.4572\n",
      "====> Test set loss: 789.4312\n"
     ]
    }
   ],
   "source": [
    "import warnings;\n",
    "warnings.filterwarnings('ignore')\n",
    "\n",
    "train_losses = []\n",
    "test_losses = []\n",
    "for epoch in range(1, epochs + 1):\n",
    "    train_loss = train(epoch)\n",
    "    test_loss = test(epoch)\n",
    "    train_losses.append(train_loss)\n",
    "    test_losses.append(test_loss)\n",
    "    with torch.no_grad():\n",
    "        if(epoch > epochs-10):\n",
    "            sample = torch.randn(64, l_d).to(device)\n",
    "            sample = model.decode(sample).cpu()\n",
    "            save_image(sample.view(64, 1, 28, 28),\n",
    "                       'results_rnn_old_test/sample_' + str(epoch) + '.png')\n"
   ]
  },
  {
   "cell_type": "code",
   "execution_count": 33,
   "metadata": {},
   "outputs": [
    {
     "data": {
      "image/png": "[encoded data removed]",
      "text/plain": [
       "<Figure size 432x288 with 1 Axes>"
      ]
     },
     "metadata": {},
     "output_type": "display_data"
    }
   ],
   "source": [
    "plt.plot(np.array(train_losses),'r')\n",
    "plt.show()"
   ]
  },
  {
   "cell_type": "code",
   "execution_count": 34,
   "metadata": {},
   "outputs": [
    {
     "data": {
      "image/png": "[encoded data removed]",
      "text/plain": [
       "<Figure size 432x288 with 1 Axes>"
      ]
     },
     "metadata": {},
     "output_type": "display_data"
    }
   ],
   "source": [
    "plt.plot(np.array(test_losses),'b')\n",
    "plt.show()"
   ]
  },
  {
   "cell_type": "code",
   "execution_count": null,
   "metadata": {
    "collapsed": true
   },
   "outputs": [],
   "source": []
  }
 ],
 "metadata": {
  "kernelspec": {
   "display_name": "Python 3",
   "language": "python",
   "name": "python3"
  },
  "language_info": {
   "codemirror_mode": {
    "name": "ipython",
    "version": 3
   },
   "file_extension": ".py",
   "mimetype": "text/x-python",
   "name": "python",
   "nbconvert_exporter": "python",
   "pygments_lexer": "ipython3",
   "version": "3.6.3"
  }
 },
 "nbformat": 4,
 "nbformat_minor": 2
}
