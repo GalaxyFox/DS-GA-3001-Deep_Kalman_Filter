{
 "cells": [
  {
   "cell_type": "code",
   "execution_count": 23,
   "metadata": {},
   "outputs": [
    {
     "data": {
      "text/plain": [
       "<torch._C.Generator at 0x1ea7760d530>"
      ]
     },
     "execution_count": 23,
     "metadata": {},
     "output_type": "execute_result"
    }
   ],
   "source": [
    "from __future__ import print_function\n",
    "import argparse\n",
    "import torch\n",
    "import torch.utils.data\n",
    "from torch import nn, optim\n",
    "from torch.nn import functional as F\n",
    "from torchvision import datasets, transforms\n",
    "from torchvision.utils import save_image\n",
    "import numpy as np\n",
    "\n",
    "\"\"\"\n",
    "parser = argparse.ArgumentParser(description='VAE MNIST Example')\n",
    "parser.add_argument('--batch-size', type=int, default=128, metavar='N',\n",
    "                    help='input batch size for training (default: 128)')\n",
    "parser.add_argument('--epochs', type=int, default=10, metavar='N',\n",
    "                    help='number of epochs to train (default: 10)')\n",
    "parser.add_argument('--no-cuda', action='store_true', default=False,\n",
    "                    help='enables CUDA training')\n",
    "parser.add_argument('--seed', type=int, default=1, metavar='S',\n",
    "                    help='random seed (default: 1)')\n",
    "parser.add_argument('--log-interval', type=int, default=10, metavar='N',\n",
    "                    help='how many batches to wait before logging training status')\n",
    "args = parser.parse_args()\n",
    "args.cuda = not args.no_cuda and torch.cuda.is_available()\n",
    "\"\"\"\n",
    "batch_size = 128\n",
    "seed = 1\n",
    "epochs = 300\n",
    "cuda = True\n",
    "log_interval = 10\n",
    "h_d = 512\n",
    "l_d = 32\n",
    "u_d = 1\n",
    "\n",
    "\n",
    "\n",
    "torch.manual_seed(seed)"
   ]
  },
  {
   "cell_type": "markdown",
   "metadata": {},
   "source": [
    "### Preparing for the dataset"
   ]
  },
  {
   "cell_type": "code",
   "execution_count": 2,
   "metadata": {
    "collapsed": true
   },
   "outputs": [],
   "source": [
    "#hmnist dataset\n",
    "import healing_mnist_penalty"
   ]
  },
  {
   "cell_type": "code",
   "execution_count": 3,
   "metadata": {
    "collapsed": true
   },
   "outputs": [],
   "source": [
    "hmnist = healing_mnist_penalty.HealingMNIST(seq_len=5, # 5 rotations of each digit\n",
    "                                          square_count=0, # 3 out of 5 images have a square added to them\n",
    "                                          square_size=5, # the square is 5x5\n",
    "                                          noise_ratio=0.1, # on average, 20% of the image is eaten by noise,\n",
    "                                          digits=range(10), # only include this digits\n",
    "                                          test = False,\n",
    "                                          lag = 0.3\n",
    "                                         )"
   ]
  },
  {
   "cell_type": "code",
   "execution_count": 4,
   "metadata": {},
   "outputs": [
    {
     "name": "stdout",
     "output_type": "stream",
     "text": [
      "(60000, 5, 28, 28) (60000, 5, 28, 28)\n",
      "(60000, 5)\n",
      "(10000, 5, 28, 28) (10000, 5, 28, 28)\n",
      "(10000, 5)\n"
     ]
    }
   ],
   "source": [
    "print(hmnist.train_images.shape,hmnist.train_targets.shape)\n",
    "print(hmnist.train_rotations.shape)\n",
    "print(hmnist.test_images.shape,hmnist.test_targets.shape)\n",
    "print(hmnist.test_rotations.shape)"
   ]
  },
  {
   "cell_type": "code",
   "execution_count": 5,
   "metadata": {},
   "outputs": [
    {
     "data": {
      "image/png": "[encoded data removed]",
      "text/plain": [
       "<Figure size 1080x576 with 5 Axes>"
      ]
     },
     "metadata": {},
     "output_type": "display_data"
    }
   ],
   "source": [
    "import matplotlib.pyplot as plt\n",
    "%matplotlib inline\n",
    "case = 258\n",
    "fig = plt.figure(figsize=(15,8))\n",
    "for i, image in enumerate(hmnist.test_images[case]):\n",
    "    fig.add_subplot(1, 6, i+1)\n",
    "    plt.imshow(image,cmap='gray')\n",
    "    "
   ]
  },
  {
   "cell_type": "code",
   "execution_count": 6,
   "metadata": {},
   "outputs": [
    {
     "data": {
      "image/png": "[encoded data removed]",
      "text/plain": [
       "<Figure size 1080x576 with 5 Axes>"
      ]
     },
     "metadata": {},
     "output_type": "display_data"
    }
   ],
   "source": [
    "fig = plt.figure(figsize=(15,8))\n",
    "for i, image in enumerate(hmnist.test_targets[case]):\n",
    "    fig.add_subplot(1, 6, i+1)\n",
    "    plt.imshow(image,cmap='gray')"
   ]
  },
  {
   "cell_type": "code",
   "execution_count": 7,
   "metadata": {},
   "outputs": [
    {
     "name": "stdout",
     "output_type": "stream",
     "text": [
      "[ 89.09822559 -50.60935964 -61.63704093  35.49038145 -68.77736686]\n"
     ]
    }
   ],
   "source": [
    "print(hmnist.test_rotations[case])"
   ]
  },
  {
   "cell_type": "markdown",
   "metadata": {},
   "source": [
    "### Adjust the data shape\n",
    "this part should be different for different model, the q-INDEP model completely igorned the sequencial dependency within the dataset, so we will flat the dataset in a way that given a noisy image $p$ and an action $u$, the target should be the image de-noised and then rotate angle $u$"
   ]
  },
  {
   "cell_type": "code",
   "execution_count": 24,
   "metadata": {},
   "outputs": [
    {
     "name": "stdout",
     "output_type": "stream",
     "text": [
      "(60000, 5, 28, 28) (60000, 5) (60000, 5, 28, 28)\n",
      "(10000, 5, 28, 28) (10000, 5) (10000, 5, 28, 28)\n"
     ]
    }
   ],
   "source": [
    "train_X = hmnist.train_images\n",
    "train_u = hmnist.train_rotations\n",
    "train_Y = hmnist.train_targets\n",
    "test_X = hmnist.test_images\n",
    "test_u = hmnist.test_rotations\n",
    "test_Y = hmnist.test_targets\n",
    "print(train_X.shape,train_u.shape,train_Y.shape)\n",
    "print(test_X.shape,test_u.shape,test_Y.shape)"
   ]
  },
  {
   "cell_type": "code",
   "execution_count": 25,
   "metadata": {},
   "outputs": [
    {
     "name": "stdout",
     "output_type": "stream",
     "text": [
      "(300000, 28, 28) (300000,) (300000, 28, 28)\n",
      "(50000, 28, 28) (50000,) (50000, 28, 28)\n"
     ]
    }
   ],
   "source": [
    "#for the above six parameter, flaten the first two dimension\n",
    "train_X = train_X.reshape(-1,28,28)\n",
    "train_u = train_u.reshape(-1)\n",
    "train_Y = train_Y.reshape(-1,28,28)\n",
    "test_X = test_X.reshape(-1,28,28)\n",
    "test_u = test_u.reshape(-1)\n",
    "test_Y = test_Y.reshape(-1,28,28)\n",
    "print(train_X.shape,train_u.shape,train_Y.shape)\n",
    "print(test_X.shape,test_u.shape,test_Y.shape)"
   ]
  },
  {
   "cell_type": "code",
   "execution_count": 26,
   "metadata": {
    "collapsed": true
   },
   "outputs": [],
   "source": [
    "device = torch.device(\"cuda\" if cuda else \"cpu\")\n",
    "\n",
    "kwargs = {'num_workers': 0, 'pin_memory': True} if cuda else {}"
   ]
  },
  {
   "cell_type": "markdown",
   "metadata": {},
   "source": [
    "### Dataset object"
   ]
  },
  {
   "cell_type": "code",
   "execution_count": 27,
   "metadata": {
    "collapsed": true
   },
   "outputs": [],
   "source": [
    "class HMNISTDataSet():\n",
    "    def __init__(self, train_img, train_act, train_tar, test_img, test_act, test_tar, test = False, transform=None):\n",
    "        self.test = test\n",
    "        self.transform = transform\n",
    "\n",
    "        if (self.test == False):\n",
    "          self.images = train_img\n",
    "          self.targets = train_tar\n",
    "          self.rotations = train_act\n",
    "\n",
    "        else:      \n",
    "          self.images = test_img\n",
    "          self.targets = test_tar\n",
    "          self.rotations = test_act\n",
    "\n",
    "    def __len__(self):\n",
    "        return len(self.images)\n",
    "    \n",
    "    def __getitem__(self, index):\n",
    "        if self.transform is not None:\n",
    "            img = self.transform(self.images[index].reshape(28,28,1))\n",
    "            tar = self.transform(self.targets[index].reshape(28,28,1))\n",
    "            rot = torch.tensor(self.rotations[index])\n",
    "        return img, rot, tar"
   ]
  },
  {
   "cell_type": "code",
   "execution_count": 28,
   "metadata": {
    "collapsed": true
   },
   "outputs": [],
   "source": [
    "train_set = HMNISTDataSet(train_X, train_u, train_Y, test_X, test_u, test_Y, test = False, transform = transforms.ToTensor())\n",
    "test_set = HMNISTDataSet(train_X, train_u, train_Y, test_X, test_u, test_Y, test = True, transform = transforms.ToTensor())"
   ]
  },
  {
   "cell_type": "markdown",
   "metadata": {},
   "source": [
    "### Create DataLoader"
   ]
  },
  {
   "cell_type": "code",
   "execution_count": 29,
   "metadata": {
    "collapsed": true
   },
   "outputs": [],
   "source": [
    "train_loader = torch.utils.data.DataLoader(train_set, batch_size=batch_size, shuffle=True, **kwargs)\n",
    "test_loader = torch.utils.data.DataLoader(test_set, batch_size=batch_size, shuffle=True, **kwargs)"
   ]
  },
  {
   "cell_type": "markdown",
   "metadata": {},
   "source": [
    "### Model definition"
   ]
  },
  {
   "cell_type": "code",
   "execution_count": 30,
   "metadata": {
    "collapsed": true
   },
   "outputs": [],
   "source": [
    "class VAE(nn.Module):\n",
    "    def __init__(self):\n",
    "        super(VAE, self).__init__()\n",
    "\n",
    "        self.fc1 = nn.Linear(784, h_d)\n",
    "        self.fc2 = nn.Linear(h_d,128)\n",
    "        self.fc21 = nn.Linear(128, l_d)\n",
    "        self.fc22 = nn.Linear(128, l_d)\n",
    "        \n",
    "        #transition layer\n",
    "        self.fct = nn.Linear(l_d + u_d, l_d)\n",
    "        self.fctm = nn.Linear(l_d,l_d)\n",
    "        self.fcts = nn.Linear(l_d,l_d)\n",
    "        \n",
    "        self.fc3 = nn.Linear(l_d, 128)\n",
    "        self.fc4 = nn.Linear(128,h_d)\n",
    "        self.fc5 = nn.Linear(h_d, 784)\n",
    "        \n",
    "    def encode(self, x):\n",
    "        x = x.float()\n",
    "        h1 = F.relu(self.fc1(x))\n",
    "        h2 = F.relu(self.fc2(h1))\n",
    "        return self.fc21(h2), self.fc22(h2)\n",
    "\n",
    "    def reparameterize1(self, mu, logvar):\n",
    "        std = torch.exp(0.5*logvar)\n",
    "        eps = torch.randn_like(std)\n",
    "        return mu + eps*std\n",
    "    \n",
    "    def transition(self, z, u):\n",
    "        h2 = F.relu(self.fct(torch.cat((z,u),dim=1)))\n",
    "        return self.fctm(h2), self.fcts(h2)\n",
    "    \n",
    "    def reparameterize2(self, mu, logvar):\n",
    "        std = torch.exp(0.5*logvar)\n",
    "        eps = torch.randn_like(std)\n",
    "        return mu + eps*std\n",
    "\n",
    "    def decode(self, z):\n",
    "        h3 = F.relu(self.fc3(z))\n",
    "        h4 = F.relu(self.fc4(h3))\n",
    "        return torch.sigmoid(self.fc5(h4))\n",
    "\n",
    "    def forward(self, x, u):\n",
    "        mu1, logvar1 = self.encode(x.view(-1, 784))\n",
    "        z1 = self.reparameterize1(mu1, logvar1)\n",
    "        mu2, logvar2 = self.transition(z1,u.reshape(-1,1))\n",
    "        z2 = self.reparameterize2(mu2, logvar2)\n",
    "        \n",
    "        return self.decode(z2), mu2, logvar2"
   ]
  },
  {
   "cell_type": "code",
   "execution_count": 31,
   "metadata": {
    "collapsed": true
   },
   "outputs": [],
   "source": [
    "model = VAE().to(device)\n",
    "#adam optimizer\n",
    "optimizer = optim.Adam(model.parameters(), lr=1e-3)"
   ]
  },
  {
   "cell_type": "code",
   "execution_count": 32,
   "metadata": {
    "collapsed": true
   },
   "outputs": [],
   "source": [
    "# Reconstruction + KL divergence losses summed over all elements and batch\n",
    "def loss_function(recon_x, x, mu, logvar):\n",
    "    x = x.float()\n",
    "    BCE = F.binary_cross_entropy(recon_x, x.view(-1, 784), reduction='sum')\n",
    "\n",
    "    # see Appendix B from VAE paper:\n",
    "    # Kingma and Welling. Auto-Encoding Variational Bayes. ICLR, 2014\n",
    "    # https://arxiv.org/abs/1312.6114\n",
    "    # 0.5 * sum(1 + log(sigma^2) - mu^2 - sigma^2)\n",
    "    KLD = -0.5 * torch.sum(1 + logvar - mu.pow(2) - logvar.exp())\n",
    "\n",
    "    return BCE + KLD"
   ]
  },
  {
   "cell_type": "markdown",
   "metadata": {},
   "source": [
    "### Define training and testing algorithm"
   ]
  },
  {
   "cell_type": "code",
   "execution_count": 33,
   "metadata": {
    "collapsed": true
   },
   "outputs": [],
   "source": [
    "def train(epoch):\n",
    "    model.train()\n",
    "    train_loss = 0\n",
    "    for batch_idx, (img, action, target) in enumerate(train_loader):\n",
    "        img = img.to(device)\n",
    "        action = action.to(device)\n",
    "        target = target.to(device)\n",
    "        optimizer.zero_grad()\n",
    "        recon_batch, mu, logvar = model(img,action)\n",
    "        loss = loss_function(recon_batch, target, mu, logvar)\n",
    "        loss.backward()\n",
    "        train_loss += loss.item()\n",
    "        optimizer.step()\n",
    "        #if batch_idx % log_interval == 0:\n",
    "         #   print('Train Epoch: {} [{}/{} ({:.0f}%)]\\tLoss: {:.6f}'.format(\n",
    "          #      epoch, batch_idx * len(img), len(train_loader.dataset),\n",
    "           #     100. * batch_idx / len(train_loader),\n",
    "            #    loss.item() / len(img)))\n",
    "\n",
    "    print('====> Epoch: {} Average loss: {:.4f}'.format(\n",
    "          epoch, train_loss / len(train_loader.dataset)))\n",
    "    return train_loss / len(train_loader.dataset)"
   ]
  },
  {
   "cell_type": "code",
   "execution_count": 34,
   "metadata": {
    "collapsed": true
   },
   "outputs": [],
   "source": [
    "def test(epoch):\n",
    "    model.eval()\n",
    "    test_loss = 0\n",
    "    with torch.no_grad():\n",
    "        for i, (img, action, target) in enumerate(test_loader):\n",
    "            img = img.to(device)\n",
    "            action = action.to(device)\n",
    "            target = target.to(device)\n",
    "            recon_batch, mu, logvar = model(img, action)\n",
    "            test_loss += loss_function(recon_batch, target, mu, logvar).item()\n",
    "            if(epoch > epochs-10):\n",
    "                if i == 0:\n",
    "                    n = min(img.size(0), 8)\n",
    "                    comparison = torch.cat([target[:n].float(),\n",
    "                                          recon_batch.view(batch_size, 1, 28, 28)[:n]])\n",
    "                    save_image(comparison.cpu(),\n",
    "                             'results_ind_lag/reconstruction_' + str(epoch) + '.png', nrow=n)\n",
    "\n",
    "    test_loss /= len(test_loader.dataset)\n",
    "    print('====> Test set loss: {:.4f}'.format(test_loss))\n",
    "    return test_loss"
   ]
  },
  {
   "cell_type": "markdown",
   "metadata": {},
   "source": [
    "### Run training"
   ]
  },
  {
   "cell_type": "code",
   "execution_count": 35,
   "metadata": {
    "scrolled": true
   },
   "outputs": [
    {
     "name": "stdout",
     "output_type": "stream",
     "text": [
      "====> Epoch: 1 Average loss: 214.9962\n",
      "====> Test set loss: 207.7991\n",
      "====> Epoch: 2 Average loss: 204.9722\n",
      "====> Test set loss: 202.5670\n",
      "====> Epoch: 3 Average loss: 201.7095\n",
      "====> Test set loss: 200.9987\n",
      "====> Epoch: 4 Average loss: 200.9980\n",
      "====> Test set loss: 200.3008\n",
      "====> Epoch: 5 Average loss: 187.8663\n",
      "====> Test set loss: 177.4612\n",
      "====> Epoch: 6 Average loss: 175.2574\n",
      "====> Test set loss: 173.3877\n",
      "====> Epoch: 7 Average loss: 171.9327\n",
      "====> Test set loss: 171.9852\n",
      "====> Epoch: 8 Average loss: 169.8663\n",
      "====> Test set loss: 171.3563\n",
      "====> Epoch: 9 Average loss: 168.2610\n",
      "====> Test set loss: 171.0710\n",
      "====> Epoch: 10 Average loss: 166.8773\n",
      "====> Test set loss: 170.8949\n",
      "====> Epoch: 11 Average loss: 165.6235\n",
      "====> Test set loss: 171.6687\n",
      "====> Epoch: 12 Average loss: 164.5371\n",
      "====> Test set loss: 171.2090\n",
      "====> Epoch: 13 Average loss: 163.5210\n",
      "====> Test set loss: 171.5193\n",
      "====> Epoch: 14 Average loss: 162.5516\n",
      "====> Test set loss: 171.6474\n",
      "====> Epoch: 15 Average loss: 161.7263\n",
      "====> Test set loss: 172.4552\n",
      "====> Epoch: 16 Average loss: 160.9769\n",
      "====> Test set loss: 172.3693\n",
      "====> Epoch: 17 Average loss: 160.3074\n",
      "====> Test set loss: 172.9786\n",
      "====> Epoch: 18 Average loss: 159.6021\n",
      "====> Test set loss: 172.9888\n",
      "====> Epoch: 19 Average loss: 159.0524\n",
      "====> Test set loss: 173.7965\n",
      "====> Epoch: 20 Average loss: 158.4872\n",
      "====> Test set loss: 173.6861\n",
      "====> Epoch: 21 Average loss: 158.0125\n",
      "====> Test set loss: 174.9140\n",
      "====> Epoch: 22 Average loss: 157.4930\n",
      "====> Test set loss: 174.8124\n",
      "====> Epoch: 23 Average loss: 157.1042\n",
      "====> Test set loss: 174.8101\n",
      "====> Epoch: 24 Average loss: 156.6662\n",
      "====> Test set loss: 175.7627\n",
      "====> Epoch: 25 Average loss: 156.3142\n",
      "====> Test set loss: 176.5357\n",
      "====> Epoch: 26 Average loss: 156.0065\n",
      "====> Test set loss: 176.6002\n",
      "====> Epoch: 27 Average loss: 155.6263\n",
      "====> Test set loss: 177.1557\n",
      "====> Epoch: 28 Average loss: 155.3046\n",
      "====> Test set loss: 177.6524\n",
      "====> Epoch: 29 Average loss: 155.0663\n",
      "====> Test set loss: 177.6447\n",
      "====> Epoch: 30 Average loss: 154.7619\n",
      "====> Test set loss: 177.7103\n",
      "====> Epoch: 31 Average loss: 154.4634\n",
      "====> Test set loss: 178.3238\n",
      "====> Epoch: 32 Average loss: 154.1868\n",
      "====> Test set loss: 178.6895\n",
      "====> Epoch: 33 Average loss: 153.9621\n",
      "====> Test set loss: 178.4509\n",
      "====> Epoch: 34 Average loss: 153.6944\n",
      "====> Test set loss: 178.9011\n",
      "====> Epoch: 35 Average loss: 153.5142\n",
      "====> Test set loss: 178.3967\n",
      "====> Epoch: 36 Average loss: 153.3119\n",
      "====> Test set loss: 179.7454\n",
      "====> Epoch: 37 Average loss: 153.1042\n",
      "====> Test set loss: 179.4570\n",
      "====> Epoch: 38 Average loss: 152.8463\n",
      "====> Test set loss: 179.7474\n",
      "====> Epoch: 39 Average loss: 152.6499\n",
      "====> Test set loss: 181.0870\n",
      "====> Epoch: 40 Average loss: 152.5089\n",
      "====> Test set loss: 181.4210\n",
      "====> Epoch: 41 Average loss: 152.3126\n",
      "====> Test set loss: 181.2204\n",
      "====> Epoch: 42 Average loss: 152.1015\n",
      "====> Test set loss: 181.7743\n",
      "====> Epoch: 43 Average loss: 152.0040\n",
      "====> Test set loss: 181.0194\n",
      "====> Epoch: 44 Average loss: 151.8173\n",
      "====> Test set loss: 181.5928\n",
      "====> Epoch: 45 Average loss: 151.6314\n",
      "====> Test set loss: 181.8290\n",
      "====> Epoch: 46 Average loss: 151.4572\n",
      "====> Test set loss: 182.6627\n",
      "====> Epoch: 47 Average loss: 151.3407\n",
      "====> Test set loss: 182.7225\n",
      "====> Epoch: 48 Average loss: 151.1843\n",
      "====> Test set loss: 181.9148\n",
      "====> Epoch: 49 Average loss: 151.0743\n",
      "====> Test set loss: 183.0069\n",
      "====> Epoch: 50 Average loss: 150.8973\n",
      "====> Test set loss: 182.8641\n"
     ]
    },
    {
     "ename": "RuntimeError",
     "evalue": "reduce failed to synchronize: cudaErrorAssert: device-side assert triggered",
     "output_type": "error",
     "traceback": [
      "\u001b[1;31m---------------------------------------------------------------------------\u001b[0m",
      "\u001b[1;31mRuntimeError\u001b[0m                              Traceback (most recent call last)",
      "\u001b[1;32m<ipython-input-35-dd62a854b5d0>\u001b[0m in \u001b[0;36m<module>\u001b[1;34m()\u001b[0m\n\u001b[0;32m      2\u001b[0m \u001b[0mtest_losses\u001b[0m \u001b[1;33m=\u001b[0m \u001b[1;33m[\u001b[0m\u001b[1;33m]\u001b[0m\u001b[1;33m\u001b[0m\u001b[0m\n\u001b[0;32m      3\u001b[0m \u001b[1;32mfor\u001b[0m \u001b[0mepoch\u001b[0m \u001b[1;32min\u001b[0m \u001b[0mrange\u001b[0m\u001b[1;33m(\u001b[0m\u001b[1;36m1\u001b[0m\u001b[1;33m,\u001b[0m \u001b[0mepochs\u001b[0m \u001b[1;33m+\u001b[0m \u001b[1;36m1\u001b[0m\u001b[1;33m)\u001b[0m\u001b[1;33m:\u001b[0m\u001b[1;33m\u001b[0m\u001b[0m\n\u001b[1;32m----> 4\u001b[1;33m     \u001b[0mtrain_loss\u001b[0m \u001b[1;33m=\u001b[0m \u001b[0mtrain\u001b[0m\u001b[1;33m(\u001b[0m\u001b[0mepoch\u001b[0m\u001b[1;33m)\u001b[0m\u001b[1;33m\u001b[0m\u001b[0m\n\u001b[0m\u001b[0;32m      5\u001b[0m     \u001b[0mtest_loss\u001b[0m \u001b[1;33m=\u001b[0m \u001b[0mtest\u001b[0m\u001b[1;33m(\u001b[0m\u001b[0mepoch\u001b[0m\u001b[1;33m)\u001b[0m\u001b[1;33m\u001b[0m\u001b[0m\n\u001b[0;32m      6\u001b[0m     \u001b[0mtrain_losses\u001b[0m\u001b[1;33m.\u001b[0m\u001b[0mappend\u001b[0m\u001b[1;33m(\u001b[0m\u001b[0mtrain_loss\u001b[0m\u001b[1;33m)\u001b[0m\u001b[1;33m\u001b[0m\u001b[0m\n",
      "\u001b[1;32m<ipython-input-33-227a18ec6589>\u001b[0m in \u001b[0;36mtrain\u001b[1;34m(epoch)\u001b[0m\n\u001b[0;32m      8\u001b[0m         \u001b[0moptimizer\u001b[0m\u001b[1;33m.\u001b[0m\u001b[0mzero_grad\u001b[0m\u001b[1;33m(\u001b[0m\u001b[1;33m)\u001b[0m\u001b[1;33m\u001b[0m\u001b[0m\n\u001b[0;32m      9\u001b[0m         \u001b[0mrecon_batch\u001b[0m\u001b[1;33m,\u001b[0m \u001b[0mmu\u001b[0m\u001b[1;33m,\u001b[0m \u001b[0mlogvar\u001b[0m \u001b[1;33m=\u001b[0m \u001b[0mmodel\u001b[0m\u001b[1;33m(\u001b[0m\u001b[0mimg\u001b[0m\u001b[1;33m,\u001b[0m\u001b[0maction\u001b[0m\u001b[1;33m)\u001b[0m\u001b[1;33m\u001b[0m\u001b[0m\n\u001b[1;32m---> 10\u001b[1;33m         \u001b[0mloss\u001b[0m \u001b[1;33m=\u001b[0m \u001b[0mloss_function\u001b[0m\u001b[1;33m(\u001b[0m\u001b[0mrecon_batch\u001b[0m\u001b[1;33m,\u001b[0m \u001b[0mtarget\u001b[0m\u001b[1;33m,\u001b[0m \u001b[0mmu\u001b[0m\u001b[1;33m,\u001b[0m \u001b[0mlogvar\u001b[0m\u001b[1;33m)\u001b[0m\u001b[1;33m\u001b[0m\u001b[0m\n\u001b[0m\u001b[0;32m     11\u001b[0m         \u001b[0mloss\u001b[0m\u001b[1;33m.\u001b[0m\u001b[0mbackward\u001b[0m\u001b[1;33m(\u001b[0m\u001b[1;33m)\u001b[0m\u001b[1;33m\u001b[0m\u001b[0m\n\u001b[0;32m     12\u001b[0m         \u001b[0mtrain_loss\u001b[0m \u001b[1;33m+=\u001b[0m \u001b[0mloss\u001b[0m\u001b[1;33m.\u001b[0m\u001b[0mitem\u001b[0m\u001b[1;33m(\u001b[0m\u001b[1;33m)\u001b[0m\u001b[1;33m\u001b[0m\u001b[0m\n",
      "\u001b[1;32m<ipython-input-32-167dd375492c>\u001b[0m in \u001b[0;36mloss_function\u001b[1;34m(recon_x, x, mu, logvar)\u001b[0m\n\u001b[0;32m      2\u001b[0m \u001b[1;32mdef\u001b[0m \u001b[0mloss_function\u001b[0m\u001b[1;33m(\u001b[0m\u001b[0mrecon_x\u001b[0m\u001b[1;33m,\u001b[0m \u001b[0mx\u001b[0m\u001b[1;33m,\u001b[0m \u001b[0mmu\u001b[0m\u001b[1;33m,\u001b[0m \u001b[0mlogvar\u001b[0m\u001b[1;33m)\u001b[0m\u001b[1;33m:\u001b[0m\u001b[1;33m\u001b[0m\u001b[0m\n\u001b[0;32m      3\u001b[0m     \u001b[0mx\u001b[0m \u001b[1;33m=\u001b[0m \u001b[0mx\u001b[0m\u001b[1;33m.\u001b[0m\u001b[0mfloat\u001b[0m\u001b[1;33m(\u001b[0m\u001b[1;33m)\u001b[0m\u001b[1;33m\u001b[0m\u001b[0m\n\u001b[1;32m----> 4\u001b[1;33m     \u001b[0mBCE\u001b[0m \u001b[1;33m=\u001b[0m \u001b[0mF\u001b[0m\u001b[1;33m.\u001b[0m\u001b[0mbinary_cross_entropy\u001b[0m\u001b[1;33m(\u001b[0m\u001b[0mrecon_x\u001b[0m\u001b[1;33m,\u001b[0m \u001b[0mx\u001b[0m\u001b[1;33m.\u001b[0m\u001b[0mview\u001b[0m\u001b[1;33m(\u001b[0m\u001b[1;33m-\u001b[0m\u001b[1;36m1\u001b[0m\u001b[1;33m,\u001b[0m \u001b[1;36m784\u001b[0m\u001b[1;33m)\u001b[0m\u001b[1;33m,\u001b[0m \u001b[0mreduction\u001b[0m\u001b[1;33m=\u001b[0m\u001b[1;34m'sum'\u001b[0m\u001b[1;33m)\u001b[0m\u001b[1;33m\u001b[0m\u001b[0m\n\u001b[0m\u001b[0;32m      5\u001b[0m \u001b[1;33m\u001b[0m\u001b[0m\n\u001b[0;32m      6\u001b[0m     \u001b[1;31m# see Appendix B from VAE paper:\u001b[0m\u001b[1;33m\u001b[0m\u001b[1;33m\u001b[0m\u001b[0m\n",
      "\u001b[1;32m~\\Anaconda3\\lib\\site-packages\\torch\\nn\\functional.py\u001b[0m in \u001b[0;36mbinary_cross_entropy\u001b[1;34m(input, target, weight, size_average, reduce, reduction)\u001b[0m\n\u001b[0;32m   2063\u001b[0m \u001b[1;33m\u001b[0m\u001b[0m\n\u001b[0;32m   2064\u001b[0m     return torch._C._nn.binary_cross_entropy(\n\u001b[1;32m-> 2065\u001b[1;33m         input, target, weight, reduction_enum)\n\u001b[0m\u001b[0;32m   2066\u001b[0m \u001b[1;33m\u001b[0m\u001b[0m\n\u001b[0;32m   2067\u001b[0m \u001b[1;33m\u001b[0m\u001b[0m\n",
      "\u001b[1;31mRuntimeError\u001b[0m: reduce failed to synchronize: cudaErrorAssert: device-side assert triggered"
     ]
    }
   ],
   "source": [
    "train_losses = []\n",
    "test_losses = []\n",
    "for epoch in range(1, epochs + 1):\n",
    "    train_loss = train(epoch)\n",
    "    test_loss = test(epoch)\n",
    "    train_losses.append(train_loss)\n",
    "    test_losses.append(test_loss)\n",
    "    with torch.no_grad():\n",
    "        if(epoch > epochs - 10):\n",
    "            sample = torch.randn(64, l_d).to(device)\n",
    "            sample = model.decode(sample).cpu()\n",
    "            save_image(sample.view(64, 1, 28, 28),\n",
    "                       'results_ind_lag/sample_' + str(epoch) + '.png')\n"
   ]
  },
  {
   "cell_type": "code",
   "execution_count": 36,
   "metadata": {},
   "outputs": [
    {
     "data": {
      "image/png": "[encoded data removed]",
      "text/plain": [
       "<Figure size 432x288 with 1 Axes>"
      ]
     },
     "metadata": {},
     "output_type": "display_data"
    }
   ],
   "source": [
    "plt.plot(np.array(train_losses),'r')\n",
    "plt.show()"
   ]
  },
  {
   "cell_type": "code",
   "execution_count": 37,
   "metadata": {},
   "outputs": [
    {
     "data": {
      "image/png": "[encoded data removed]",
      "text/plain": [
       "<Figure size 432x288 with 1 Axes>"
      ]
     },
     "metadata": {},
     "output_type": "display_data"
    }
   ],
   "source": [
    "plt.plot(np.array(test_losses),'b')\n",
    "plt.show()"
   ]
  },
  {
   "cell_type": "code",
   "execution_count": null,
   "metadata": {
    "collapsed": true
   },
   "outputs": [],
   "source": []
  }
 ],
 "metadata": {
  "kernelspec": {
   "display_name": "Python 3",
   "language": "python",
   "name": "python3"
  },
  "language_info": {
   "codemirror_mode": {
    "name": "ipython",
    "version": 3
   },
   "file_extension": ".py",
   "mimetype": "text/x-python",
   "name": "python",
   "nbconvert_exporter": "python",
   "pygments_lexer": "ipython3",
   "version": "3.6.3"
  }
 },
 "nbformat": 4,
 "nbformat_minor": 2
}
