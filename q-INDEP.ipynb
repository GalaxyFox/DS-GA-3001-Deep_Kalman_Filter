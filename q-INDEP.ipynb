{
 "cells": [
  {
   "cell_type": "code",
   "execution_count": 1,
   "metadata": {},
   "outputs": [
    {
     "data": {
      "text/plain": [
       "<torch._C.Generator at 0x176311bc510>"
      ]
     },
     "execution_count": 1,
     "metadata": {},
     "output_type": "execute_result"
    }
   ],
   "source": [
    "from __future__ import print_function\n",
    "import argparse\n",
    "import torch\n",
    "import torch.utils.data\n",
    "from torch import nn, optim\n",
    "from torch.nn import functional as F\n",
    "from torchvision import datasets, transforms\n",
    "from torchvision.utils import save_image\n",
    "import numpy as np\n",
    "\n",
    "\"\"\"\n",
    "parser = argparse.ArgumentParser(description='VAE MNIST Example')\n",
    "parser.add_argument('--batch-size', type=int, default=128, metavar='N',\n",
    "                    help='input batch size for training (default: 128)')\n",
    "parser.add_argument('--epochs', type=int, default=10, metavar='N',\n",
    "                    help='number of epochs to train (default: 10)')\n",
    "parser.add_argument('--no-cuda', action='store_true', default=False,\n",
    "                    help='enables CUDA training')\n",
    "parser.add_argument('--seed', type=int, default=1, metavar='S',\n",
    "                    help='random seed (default: 1)')\n",
    "parser.add_argument('--log-interval', type=int, default=10, metavar='N',\n",
    "                    help='how many batches to wait before logging training status')\n",
    "args = parser.parse_args()\n",
    "args.cuda = not args.no_cuda and torch.cuda.is_available()\n",
    "\"\"\"\n",
    "batch_size = 128\n",
    "seed = 1\n",
    "epochs = 100\n",
    "cuda = True\n",
    "log_interval = 10\n",
    "h_d = 512\n",
    "l_d = 32\n",
    "u_d = 1\n",
    "\n",
    "\n",
    "\n",
    "torch.manual_seed(seed)"
   ]
  },
  {
   "cell_type": "markdown",
   "metadata": {},
   "source": [
    "### Preparing for the dataset"
   ]
  },
  {
   "cell_type": "code",
   "execution_count": 2,
   "metadata": {
    "collapsed": true
   },
   "outputs": [],
   "source": [
    "#hmnist dataset\n",
    "import healing_mnist_indep"
   ]
  },
  {
   "cell_type": "code",
   "execution_count": 3,
   "metadata": {
    "collapsed": true
   },
   "outputs": [],
   "source": [
    "hmnist = healing_mnist_indep.HealingMNIST(seq_len=5, # 5 rotations of each digit\n",
    "                                          square_count=0, # 3 out of 5 images have a square added to them\n",
    "                                          square_size=5, # the square is 5x5\n",
    "                                          noise_ratio=0.15, # on average, 20% of the image is eaten by noise,\n",
    "                                          digits=range(10), # only include this digits\n",
    "                                          test = False\n",
    "                                         )"
   ]
  },
  {
   "cell_type": "code",
   "execution_count": 4,
   "metadata": {},
   "outputs": [
    {
     "name": "stdout",
     "output_type": "stream",
     "text": [
      "(60000, 5, 28, 28) (60000, 5, 28, 28)\n",
      "(60000, 5)\n",
      "(10000, 5, 28, 28) (10000, 5, 28, 28)\n",
      "(10000, 5)\n"
     ]
    }
   ],
   "source": [
    "print(hmnist.train_images.shape,hmnist.train_targets.shape)\n",
    "print(hmnist.train_rotations.shape)\n",
    "print(hmnist.test_images.shape,hmnist.test_targets.shape)\n",
    "print(hmnist.test_rotations.shape)"
   ]
  },
  {
   "cell_type": "code",
   "execution_count": 5,
   "metadata": {},
   "outputs": [
    {
     "data": {
      "image/png": "[encoded data removed]",
      "text/plain": [
       "<Figure size 1080x576 with 5 Axes>"
      ]
     },
     "metadata": {},
     "output_type": "display_data"
    }
   ],
   "source": [
    "import matplotlib.pyplot as plt\n",
    "%matplotlib inline\n",
    "case = 4\n",
    "fig = plt.figure(figsize=(15,8))\n",
    "for i, image in enumerate(hmnist.test_images[case]):\n",
    "    fig.add_subplot(1, 6, i+1)\n",
    "    plt.imshow(image,cmap='gray')\n",
    "    "
   ]
  },
  {
   "cell_type": "code",
   "execution_count": 6,
   "metadata": {},
   "outputs": [
    {
     "data": {
      "image/png": "[encoded data removed]",
      "text/plain": [
       "<Figure size 1080x576 with 5 Axes>"
      ]
     },
     "metadata": {},
     "output_type": "display_data"
    }
   ],
   "source": [
    "fig = plt.figure(figsize=(15,8))\n",
    "for i, image in enumerate(hmnist.test_targets[case]):\n",
    "    fig.add_subplot(1, 6, i+1)\n",
    "    plt.imshow(image,cmap='gray')"
   ]
  },
  {
   "cell_type": "code",
   "execution_count": 7,
   "metadata": {},
   "outputs": [
    {
     "name": "stdout",
     "output_type": "stream",
     "text": [
      "[-41.77125271  79.674205     9.87602849 -27.44244654 -57.76522023]\n"
     ]
    }
   ],
   "source": [
    "print(hmnist.test_rotations[case])"
   ]
  },
  {
   "cell_type": "markdown",
   "metadata": {},
   "source": [
    "### Adjust the data shape\n",
    "this part should be different for different model, the q-INDEP model completely igorned the sequencial dependency within the dataset, so we will flat the dataset in a way that given a noisy image $p$ and an action $u$, the target should be the image de-noised and then rotate angle $u$"
   ]
  },
  {
   "cell_type": "code",
   "execution_count": 8,
   "metadata": {},
   "outputs": [
    {
     "name": "stdout",
     "output_type": "stream",
     "text": [
      "(60000, 5, 28, 28) (60000, 5) (60000, 5, 28, 28)\n",
      "(10000, 5, 28, 28) (10000, 5) (10000, 5, 28, 28)\n"
     ]
    }
   ],
   "source": [
    "train_X = hmnist.train_images\n",
    "train_u = hmnist.train_rotations\n",
    "train_Y = hmnist.train_targets\n",
    "test_X = hmnist.test_images\n",
    "test_u = hmnist.test_rotations\n",
    "test_Y = hmnist.test_targets\n",
    "print(train_X.shape,train_u.shape,train_Y.shape)\n",
    "print(test_X.shape,test_u.shape,test_Y.shape)"
   ]
  },
  {
   "cell_type": "code",
   "execution_count": 9,
   "metadata": {},
   "outputs": [
    {
     "name": "stdout",
     "output_type": "stream",
     "text": [
      "(300000, 28, 28) (300000,) (300000, 28, 28)\n",
      "(50000, 28, 28) (50000,) (50000, 28, 28)\n"
     ]
    }
   ],
   "source": [
    "#for the above six parameter, flaten the first two dimension\n",
    "train_X = train_X.reshape(-1,28,28)\n",
    "train_u = train_u.reshape(-1)\n",
    "train_Y = train_Y.reshape(-1,28,28)\n",
    "test_X = test_X.reshape(-1,28,28)\n",
    "test_u = test_u.reshape(-1)\n",
    "test_Y = test_Y.reshape(-1,28,28)\n",
    "print(train_X.shape,train_u.shape,train_Y.shape)\n",
    "print(test_X.shape,test_u.shape,test_Y.shape)"
   ]
  },
  {
   "cell_type": "code",
   "execution_count": 10,
   "metadata": {},
   "outputs": [
    {
     "data": {
      "text/plain": [
       "\"\\n\\ntrain_loader = torch.utils.data.DataLoader(\\n    datasets.MNIST('./data', train=True, download=True,\\n                   transform=transforms.ToTensor()),\\n    batch_size=batch_size, shuffle=True, **kwargs)\\n\\n\\n\\ntest_loader = torch.utils.data.DataLoader(\\n    datasets.MNIST('./data', train=False, transform=transforms.ToTensor()),\\n    batch_size=batch_size, shuffle=True, **kwargs)\\n\\n\""
      ]
     },
     "execution_count": 10,
     "metadata": {},
     "output_type": "execute_result"
    }
   ],
   "source": [
    "device = torch.device(\"cuda\" if cuda else \"cpu\")\n",
    "\n",
    "kwargs = {'num_workers': 0, 'pin_memory': True} if cuda else {}\n",
    "\n",
    "\"\"\"\n",
    "\n",
    "train_loader = torch.utils.data.DataLoader(\n",
    "    datasets.MNIST('./data', train=True, download=True,\n",
    "                   transform=transforms.ToTensor()),\n",
    "    batch_size=batch_size, shuffle=True, **kwargs)\n",
    "\n",
    "\n",
    "\n",
    "test_loader = torch.utils.data.DataLoader(\n",
    "    datasets.MNIST('./data', train=False, transform=transforms.ToTensor()),\n",
    "    batch_size=batch_size, shuffle=True, **kwargs)\n",
    "\n",
    "\"\"\"\n",
    "\n"
   ]
  },
  {
   "cell_type": "markdown",
   "metadata": {},
   "source": [
    "### Dataset object"
   ]
  },
  {
   "cell_type": "code",
   "execution_count": 11,
   "metadata": {
    "collapsed": true
   },
   "outputs": [],
   "source": [
    "class HMNISTDataSet():\n",
    "    def __init__(self, train_img, train_act, train_tar, test_img, test_act, test_tar, test = False, transform=None):\n",
    "        self.test = test\n",
    "        self.transform = transform\n",
    "\n",
    "        if (self.test == False):\n",
    "          self.images = train_img\n",
    "          self.targets = train_tar\n",
    "          self.rotations = train_act\n",
    "\n",
    "        else:      \n",
    "          self.images = test_img\n",
    "          self.targets = test_tar\n",
    "          self.rotations = test_act\n",
    "\n",
    "    def __len__(self):\n",
    "        return len(self.images)\n",
    "    \n",
    "    def __getitem__(self, index):\n",
    "        if self.transform is not None:\n",
    "            img = self.transform(self.images[index].reshape(28,28,1))\n",
    "            tar = self.transform(self.targets[index].reshape(28,28,1))\n",
    "            rot = torch.tensor(self.rotations[index])\n",
    "        return img, rot, tar"
   ]
  },
  {
   "cell_type": "code",
   "execution_count": 12,
   "metadata": {
    "collapsed": true
   },
   "outputs": [],
   "source": [
    "train_set = HMNISTDataSet(train_X, train_u, train_Y, test_X, test_u, test_Y, test = False, transform = transforms.ToTensor())\n",
    "test_set = HMNISTDataSet(train_X, train_u, train_Y, test_X, test_u, test_Y, test = True, transform = transforms.ToTensor())"
   ]
  },
  {
   "cell_type": "markdown",
   "metadata": {},
   "source": [
    "### Create DataLoader"
   ]
  },
  {
   "cell_type": "code",
   "execution_count": 13,
   "metadata": {
    "collapsed": true
   },
   "outputs": [],
   "source": [
    "train_loader = torch.utils.data.DataLoader(train_set, batch_size=batch_size, shuffle=True, **kwargs)\n",
    "test_loader = torch.utils.data.DataLoader(test_set, batch_size=batch_size, shuffle=True, **kwargs)"
   ]
  },
  {
   "cell_type": "markdown",
   "metadata": {},
   "source": [
    "### Model definition"
   ]
  },
  {
   "cell_type": "code",
   "execution_count": 20,
   "metadata": {
    "collapsed": true
   },
   "outputs": [],
   "source": [
    "class VAE(nn.Module):\n",
    "    def __init__(self):\n",
    "        super(VAE, self).__init__()\n",
    "\n",
    "        self.fc1 = nn.Linear(784, h_d)\n",
    "        self.fc2 = nn.Linear(h_d,128)\n",
    "        self.fc21 = nn.Linear(128, l_d)\n",
    "        self.fc22 = nn.Linear(128, l_d)\n",
    "        \n",
    "        #transition layer\n",
    "        self.fct = nn.Linear(l_d + u_d, l_d)\n",
    "        self.fctm = nn.Linear(l_d,l_d)\n",
    "        self.fcts = nn.Linear(l_d,l_d)\n",
    "        \n",
    "        self.fc3 = nn.Linear(l_d, 128)\n",
    "        self.fc4 = nn.Linear(128,h_d)\n",
    "        self.fc5 = nn.Linear(h_d, 784)\n",
    "        \n",
    "    def encode(self, x):\n",
    "        x = x.float()\n",
    "        h1 = F.relu(self.fc1(x))\n",
    "        h2 = F.relu(self.fc2(h1))\n",
    "        return self.fc21(h2), self.fc22(h2)\n",
    "\n",
    "    def reparameterize1(self, mu, logvar):\n",
    "        std = torch.exp(0.5*logvar)\n",
    "        eps = torch.randn_like(std)\n",
    "        return mu + eps*std\n",
    "    \n",
    "    def transition(self, z, u):\n",
    "        h2 = F.relu(self.fct(torch.cat((z,u),dim=1)))\n",
    "        return self.fctm(h2), self.fcts(h2)\n",
    "    \n",
    "    def reparameterize2(self, mu, logvar):\n",
    "        std = torch.exp(0.5*logvar)\n",
    "        eps = torch.randn_like(std)\n",
    "        return mu + eps*std\n",
    "\n",
    "    def decode(self, z):\n",
    "        h3 = F.relu(self.fc3(z))\n",
    "        h4 = F.relu(self.fc4(h3))\n",
    "        return torch.sigmoid(self.fc5(h4))\n",
    "\n",
    "    def forward(self, x, u):\n",
    "        mu1, logvar1 = self.encode(x.view(-1, 784))\n",
    "        z1 = self.reparameterize1(mu1, logvar1)\n",
    "        mu2, logvar2 = self.transition(z1,u.reshape(-1,1))\n",
    "        z2 = self.reparameterize2(mu2, logvar2)\n",
    "        \n",
    "        return self.decode(z2), mu2, logvar2"
   ]
  },
  {
   "cell_type": "code",
   "execution_count": 21,
   "metadata": {
    "collapsed": true
   },
   "outputs": [],
   "source": [
    "model = VAE().to(device)\n",
    "#adam optimizer\n",
    "optimizer = optim.Adam(model.parameters(), lr=1e-3)"
   ]
  },
  {
   "cell_type": "code",
   "execution_count": 26,
   "metadata": {
    "collapsed": true
   },
   "outputs": [],
   "source": [
    "# Reconstruction + KL divergence losses summed over all elements and batch\n",
    "def loss_function(recon_x, x, mu, logvar):\n",
    "    x = x.float()\n",
    "    BCE = F.binary_cross_entropy(recon_x, x.view(-1, 784), reduction='sum')\n",
    "\n",
    "    # see Appendix B from VAE paper:\n",
    "    # Kingma and Welling. Auto-Encoding Variational Bayes. ICLR, 2014\n",
    "    # https://arxiv.org/abs/1312.6114\n",
    "    # 0.5 * sum(1 + log(sigma^2) - mu^2 - sigma^2)\n",
    "    KLD = -0.5 * torch.sum(1 + logvar - mu.pow(2) - logvar.exp())\n",
    "\n",
    "    return BCE + KLD"
   ]
  },
  {
   "cell_type": "markdown",
   "metadata": {},
   "source": [
    "### Define training and testing algorithm"
   ]
  },
  {
   "cell_type": "code",
   "execution_count": 27,
   "metadata": {
    "collapsed": true
   },
   "outputs": [],
   "source": [
    "def train(epoch):\n",
    "    model.train()\n",
    "    train_loss = 0\n",
    "    for batch_idx, (img, action, target) in enumerate(train_loader):\n",
    "        img = img.to(device)\n",
    "        action = action.to(device)\n",
    "        target = target.to(device)\n",
    "        optimizer.zero_grad()\n",
    "        recon_batch, mu, logvar = model(img,action)\n",
    "        loss = loss_function(recon_batch, target, mu, logvar)\n",
    "        loss.backward()\n",
    "        train_loss += loss.item()\n",
    "        optimizer.step()\n",
    "        #if batch_idx % log_interval == 0:\n",
    "         #   print('Train Epoch: {} [{}/{} ({:.0f}%)]\\tLoss: {:.6f}'.format(\n",
    "          #      epoch, batch_idx * len(img), len(train_loader.dataset),\n",
    "           #     100. * batch_idx / len(train_loader),\n",
    "            #    loss.item() / len(img)))\n",
    "\n",
    "    print('====> Epoch: {} Average loss: {:.4f}'.format(\n",
    "          epoch, train_loss / len(train_loader.dataset)))\n",
    "    return train_loss / len(train_loader.dataset)"
   ]
  },
  {
   "cell_type": "code",
   "execution_count": 28,
   "metadata": {
    "collapsed": true
   },
   "outputs": [],
   "source": [
    "def test(epoch):\n",
    "    model.eval()\n",
    "    test_loss = 0\n",
    "    with torch.no_grad():\n",
    "        for i, (img, action, target) in enumerate(test_loader):\n",
    "            img = img.to(device)\n",
    "            action = action.to(device)\n",
    "            target = target.to(device)\n",
    "            recon_batch, mu, logvar = model(img, action)\n",
    "            test_loss += loss_function(recon_batch, target, mu, logvar).item()\n",
    "            if(epoch > 50):\n",
    "                if i == 0:\n",
    "                    n = min(img.size(0), 8)\n",
    "                    #comparison = torch.cat([target[:n],\n",
    "                                          #recon_batch.view(batch_size, 1, 28, 28)[:n]])\n",
    "                    #save_image(comparison.cpu(),\n",
    "                             #'results/reconstruction_' + str(epoch) + '.png', nrow=n)\n",
    "\n",
    "    test_loss /= len(test_loader.dataset)\n",
    "    print('====> Test set loss: {:.4f}'.format(test_loss))\n",
    "    return test_loss"
   ]
  },
  {
   "cell_type": "markdown",
   "metadata": {},
   "source": [
    "### Run training"
   ]
  },
  {
   "cell_type": "code",
   "execution_count": 29,
   "metadata": {
    "scrolled": true
   },
   "outputs": [
    {
     "name": "stdout",
     "output_type": "stream",
     "text": [
      "====> Epoch: 1 Average loss: 219.3159\n",
      "====> Test set loss: 199.6516\n",
      "====> Epoch: 2 Average loss: 181.6968\n",
      "====> Test set loss: 176.1508\n",
      "====> Epoch: 3 Average loss: 169.4334\n",
      "====> Test set loss: 164.4056\n",
      "====> Epoch: 4 Average loss: 157.7764\n",
      "====> Test set loss: 154.0253\n",
      "====> Epoch: 5 Average loss: 152.4056\n",
      "====> Test set loss: 152.2316\n",
      "====> Epoch: 6 Average loss: 149.8101\n",
      "====> Test set loss: 150.2861\n",
      "====> Epoch: 7 Average loss: 148.1083\n",
      "====> Test set loss: 148.8050\n",
      "====> Epoch: 8 Average loss: 146.8319\n",
      "====> Test set loss: 149.3057\n",
      "====> Epoch: 9 Average loss: 145.8050\n",
      "====> Test set loss: 148.1395\n",
      "====> Epoch: 10 Average loss: 144.9665\n",
      "====> Test set loss: 147.5872\n",
      "====> Epoch: 11 Average loss: 144.2689\n",
      "====> Test set loss: 146.9977\n",
      "====> Epoch: 12 Average loss: 143.6709\n",
      "====> Test set loss: 147.0006\n",
      "====> Epoch: 13 Average loss: 143.1815\n",
      "====> Test set loss: 146.9468\n",
      "====> Epoch: 14 Average loss: 142.5828\n",
      "====> Test set loss: 146.7651\n",
      "====> Epoch: 15 Average loss: 142.1999\n",
      "====> Test set loss: 147.7240\n",
      "====> Epoch: 16 Average loss: 141.8154\n",
      "====> Test set loss: 146.5692\n",
      "====> Epoch: 17 Average loss: 141.3803\n",
      "====> Test set loss: 146.5964\n",
      "====> Epoch: 18 Average loss: 141.1275\n",
      "====> Test set loss: 146.7064\n",
      "====> Epoch: 19 Average loss: 140.8118\n",
      "====> Test set loss: 146.7619\n",
      "====> Epoch: 20 Average loss: 140.5144\n",
      "====> Test set loss: 146.8360\n",
      "====> Epoch: 21 Average loss: 140.2590\n",
      "====> Test set loss: 146.9922\n",
      "====> Epoch: 22 Average loss: 139.9713\n",
      "====> Test set loss: 146.6978\n",
      "====> Epoch: 23 Average loss: 139.7612\n",
      "====> Test set loss: 146.6200\n",
      "====> Epoch: 24 Average loss: 139.5690\n",
      "====> Test set loss: 146.9361\n",
      "====> Epoch: 25 Average loss: 139.2964\n",
      "====> Test set loss: 146.3495\n",
      "====> Epoch: 26 Average loss: 139.1624\n",
      "====> Test set loss: 146.4256\n",
      "====> Epoch: 27 Average loss: 138.9599\n",
      "====> Test set loss: 146.6035\n",
      "====> Epoch: 28 Average loss: 138.7745\n",
      "====> Test set loss: 146.5395\n",
      "====> Epoch: 29 Average loss: 138.5988\n",
      "====> Test set loss: 147.3252\n",
      "====> Epoch: 30 Average loss: 138.4635\n",
      "====> Test set loss: 147.2655\n",
      "====> Epoch: 31 Average loss: 138.2785\n",
      "====> Test set loss: 146.8668\n",
      "====> Epoch: 32 Average loss: 138.1251\n",
      "====> Test set loss: 147.1911\n",
      "====> Epoch: 33 Average loss: 137.9888\n",
      "====> Test set loss: 147.3118\n",
      "====> Epoch: 34 Average loss: 137.8508\n",
      "====> Test set loss: 147.5413\n",
      "====> Epoch: 35 Average loss: 137.7116\n",
      "====> Test set loss: 147.1106\n",
      "====> Epoch: 36 Average loss: 137.5904\n",
      "====> Test set loss: 147.2878\n",
      "====> Epoch: 37 Average loss: 137.4790\n",
      "====> Test set loss: 147.4679\n",
      "====> Epoch: 38 Average loss: 137.3674\n",
      "====> Test set loss: 146.9848\n",
      "====> Epoch: 39 Average loss: 137.2416\n",
      "====> Test set loss: 147.1854\n",
      "====> Epoch: 40 Average loss: 137.1095\n",
      "====> Test set loss: 147.0752\n",
      "====> Epoch: 41 Average loss: 137.0411\n",
      "====> Test set loss: 147.8000\n",
      "====> Epoch: 42 Average loss: 136.9458\n",
      "====> Test set loss: 147.1877\n",
      "====> Epoch: 43 Average loss: 136.8560\n",
      "====> Test set loss: 147.3616\n",
      "====> Epoch: 44 Average loss: 136.7567\n",
      "====> Test set loss: 147.2935\n",
      "====> Epoch: 45 Average loss: 136.6608\n",
      "====> Test set loss: 147.7873\n",
      "====> Epoch: 46 Average loss: 136.5748\n",
      "====> Test set loss: 147.8315\n",
      "====> Epoch: 47 Average loss: 136.4787\n",
      "====> Test set loss: 147.7415\n",
      "====> Epoch: 48 Average loss: 136.5167\n",
      "====> Test set loss: 147.6702\n",
      "====> Epoch: 49 Average loss: 136.3470\n",
      "====> Test set loss: 147.7422\n",
      "====> Epoch: 50 Average loss: 136.2289\n",
      "====> Test set loss: 148.2028\n",
      "====> Epoch: 51 Average loss: 136.1713\n",
      "====> Test set loss: 147.7722\n",
      "====> Epoch: 52 Average loss: 136.0938\n",
      "====> Test set loss: 148.0289\n",
      "====> Epoch: 53 Average loss: 136.0250\n",
      "====> Test set loss: 147.9023\n",
      "====> Epoch: 54 Average loss: 135.9344\n",
      "====> Test set loss: 147.8798\n",
      "====> Epoch: 55 Average loss: 135.8821\n",
      "====> Test set loss: 147.7860\n",
      "====> Epoch: 56 Average loss: 135.8616\n",
      "====> Test set loss: 148.4157\n",
      "====> Epoch: 57 Average loss: 135.7834\n",
      "====> Test set loss: 148.2520\n",
      "====> Epoch: 58 Average loss: 135.7358\n",
      "====> Test set loss: 147.9233\n",
      "====> Epoch: 59 Average loss: 135.6223\n",
      "====> Test set loss: 148.1273\n",
      "====> Epoch: 60 Average loss: 135.5978\n",
      "====> Test set loss: 148.0997\n",
      "====> Epoch: 61 Average loss: 135.5467\n",
      "====> Test set loss: 148.4391\n",
      "====> Epoch: 62 Average loss: 135.4606\n",
      "====> Test set loss: 148.6339\n",
      "====> Epoch: 63 Average loss: 135.4201\n",
      "====> Test set loss: 158.9761\n",
      "====> Epoch: 64 Average loss: 135.3810\n",
      "====> Test set loss: 148.4777\n",
      "====> Epoch: 65 Average loss: 135.2913\n",
      "====> Test set loss: 148.8126\n",
      "====> Epoch: 66 Average loss: 135.3043\n",
      "====> Test set loss: 149.4737\n",
      "====> Epoch: 67 Average loss: 135.2059\n",
      "====> Test set loss: 148.7223\n",
      "====> Epoch: 68 Average loss: 135.1757\n",
      "====> Test set loss: 148.9071\n",
      "====> Epoch: 69 Average loss: 135.0864\n",
      "====> Test set loss: 148.8122\n",
      "====> Epoch: 70 Average loss: 135.0729\n",
      "====> Test set loss: 149.0176\n",
      "====> Epoch: 71 Average loss: 135.0475\n",
      "====> Test set loss: 149.0187\n",
      "====> Epoch: 72 Average loss: 134.9601\n",
      "====> Test set loss: 148.7476\n",
      "====> Epoch: 73 Average loss: 134.9010\n",
      "====> Test set loss: 149.0560\n",
      "====> Epoch: 74 Average loss: 134.9067\n",
      "====> Test set loss: 148.6166\n",
      "====> Epoch: 75 Average loss: 134.8181\n",
      "====> Test set loss: 148.5817\n",
      "====> Epoch: 76 Average loss: 134.7888\n",
      "====> Test set loss: 149.0593\n",
      "====> Epoch: 77 Average loss: 134.7232\n",
      "====> Test set loss: 149.3126\n",
      "====> Epoch: 78 Average loss: 134.7175\n",
      "====> Test set loss: 149.2132\n",
      "====> Epoch: 79 Average loss: 134.6856\n",
      "====> Test set loss: 149.3224\n",
      "====> Epoch: 80 Average loss: 134.6662\n",
      "====> Test set loss: 149.0028\n",
      "====> Epoch: 81 Average loss: 134.5984\n",
      "====> Test set loss: 148.9540\n",
      "====> Epoch: 82 Average loss: 134.5709\n",
      "====> Test set loss: 149.7719\n",
      "====> Epoch: 83 Average loss: 134.5199\n",
      "====> Test set loss: 149.8644\n",
      "====> Epoch: 84 Average loss: 134.5166\n",
      "====> Test set loss: 150.0609\n",
      "====> Epoch: 85 Average loss: 134.4246\n",
      "====> Test set loss: 149.3208\n",
      "====> Epoch: 86 Average loss: 134.4108\n",
      "====> Test set loss: 149.6319\n",
      "====> Epoch: 87 Average loss: 134.3608\n",
      "====> Test set loss: 149.2485\n",
      "====> Epoch: 88 Average loss: 134.3618\n",
      "====> Test set loss: 150.1638\n",
      "====> Epoch: 89 Average loss: 134.3151\n",
      "====> Test set loss: 149.3069\n",
      "====> Epoch: 90 Average loss: 134.3258\n",
      "====> Test set loss: 150.3685\n",
      "====> Epoch: 91 Average loss: 134.2292\n",
      "====> Test set loss: 149.3286\n",
      "====> Epoch: 92 Average loss: 134.1936\n",
      "====> Test set loss: 149.8532\n",
      "====> Epoch: 93 Average loss: 134.1576\n",
      "====> Test set loss: 149.9838\n",
      "====> Epoch: 94 Average loss: 134.1642\n",
      "====> Test set loss: 149.6033\n",
      "====> Epoch: 95 Average loss: 134.1000\n",
      "====> Test set loss: 149.4320\n",
      "====> Epoch: 96 Average loss: 134.1125\n",
      "====> Test set loss: 150.1211\n",
      "====> Epoch: 97 Average loss: 134.0868\n",
      "====> Test set loss: 150.6486\n",
      "====> Epoch: 98 Average loss: 134.0239\n",
      "====> Test set loss: 149.5952\n",
      "====> Epoch: 99 Average loss: 134.0110\n",
      "====> Test set loss: 150.4992\n",
      "====> Epoch: 100 Average loss: 133.9905\n",
      "====> Test set loss: 149.6092\n"
     ]
    }
   ],
   "source": [
    "train_losses = []\n",
    "test_losses = []\n",
    "for epoch in range(1, epochs + 1):\n",
    "    train_loss = train(epoch)\n",
    "    test_loss = test(epoch)\n",
    "    train_losses.append(train_loss)\n",
    "    test_losses.append(test_loss)\n",
    "    with torch.no_grad():\n",
    "        if(epoch > 50):\n",
    "            sample = torch.randn(64, l_d).to(device)\n",
    "            sample = model.decode(sample).cpu()\n",
    "            #save_image(sample.view(64, 1, 28, 28),\n",
    "                       #'results/sample_' + str(epoch) + '.png')\n"
   ]
  },
  {
   "cell_type": "code",
   "execution_count": 30,
   "metadata": {},
   "outputs": [
    {
     "data": {
      "image/png": "[encoded data removed]",
      "text/plain": [
       "<Figure size 432x288 with 1 Axes>"
      ]
     },
     "metadata": {},
     "output_type": "display_data"
    }
   ],
   "source": [
    "plt.plot(np.array(train_losses),'r')\n",
    "plt.show()"
   ]
  },
  {
   "cell_type": "code",
   "execution_count": 31,
   "metadata": {},
   "outputs": [
    {
     "data": {
      "image/png": "[encoded data removed]",
      "text/plain": [
       "<Figure size 432x288 with 1 Axes>"
      ]
     },
     "metadata": {},
     "output_type": "display_data"
    }
   ],
   "source": [
    "plt.plot(np.array(test_losses),'b')\n",
    "plt.show()"
   ]
  },
  {
   "cell_type": "code",
   "execution_count": null,
   "metadata": {
    "collapsed": true
   },
   "outputs": [],
   "source": []
  }
 ],
 "metadata": {
  "kernelspec": {
   "display_name": "Python 3",
   "language": "python",
   "name": "python3"
  },
  "language_info": {
   "codemirror_mode": {
    "name": "ipython",
    "version": 3
   },
   "file_extension": ".py",
   "mimetype": "text/x-python",
   "name": "python",
   "nbconvert_exporter": "python",
   "pygments_lexer": "ipython3",
   "version": "3.6.3"
  }
 },
 "nbformat": 4,
 "nbformat_minor": 2
}
